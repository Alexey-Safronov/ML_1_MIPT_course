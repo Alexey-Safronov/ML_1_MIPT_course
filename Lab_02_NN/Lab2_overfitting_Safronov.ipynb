{
  "cells": [
    {
      "cell_type": "markdown",
      "metadata": {
        "id": "NFmOh482SyEF"
      },
      "source": [
        "## Lab 2\n",
        "### Part 2: Dealing with overfitting"
      ]
    },
    {
      "cell_type": "markdown",
      "metadata": {
        "id": "AjzAuO3oSvsI"
      },
      "source": [
        "Today we work with [Fashion-MNIST dataset](https://github.com/zalandoresearch/fashion-mnist) (*hint: it is available in `torchvision`*).\n",
        "\n",
        "Your goal for today:\n",
        "1. Train a FC (fully-connected) network that achieves >= 0.885 test accuracy.\n",
        "2. Cause considerable overfitting by modifying the network (e.g. increasing the number of network parameters and/or layers) and demonstrate in in the appropriate way (e.g. plot loss and accurasy on train and validation set w.r.t. network complexity).\n",
        "3. Try to deal with overfitting (at least partially) by using regularization techniques (Dropout/Batchnorm/...) and demonstrate the results.\n",
        "\n",
        "__Please, write a small report describing your ideas, tries and achieved results in the end of this file.__\n",
        "\n",
        "*Note*: Tasks 2 and 3 are interrelated, in task 3 your goal is to make the network from task 2 less prone to overfitting. Task 1 is independent from 2 and 3.\n",
        "\n",
        "*Note 2*: We recomment to use Google Colab or other machine with GPU acceleration."
      ]
    },
    {
      "cell_type": "code",
      "execution_count": null,
      "metadata": {
        "id": "_KBld6VOSwhW",
        "colab": {
          "base_uri": "https://localhost:8080/"
        },
        "outputId": "389cbe22-a6a5-4017-884f-ce3d7ce531e6"
      },
      "outputs": [
        {
          "output_type": "stream",
          "name": "stdout",
          "text": [
            "Requirement already satisfied: torchvision in /usr/local/lib/python3.10/dist-packages (0.16.0+cu118)\n",
            "Requirement already satisfied: numpy in /usr/local/lib/python3.10/dist-packages (from torchvision) (1.23.5)\n",
            "Requirement already satisfied: requests in /usr/local/lib/python3.10/dist-packages (from torchvision) (2.31.0)\n",
            "Requirement already satisfied: torch==2.1.0 in /usr/local/lib/python3.10/dist-packages (from torchvision) (2.1.0+cu118)\n",
            "Requirement already satisfied: pillow!=8.3.*,>=5.3.0 in /usr/local/lib/python3.10/dist-packages (from torchvision) (9.4.0)\n",
            "Requirement already satisfied: filelock in /usr/local/lib/python3.10/dist-packages (from torch==2.1.0->torchvision) (3.13.1)\n",
            "Requirement already satisfied: typing-extensions in /usr/local/lib/python3.10/dist-packages (from torch==2.1.0->torchvision) (4.5.0)\n",
            "Requirement already satisfied: sympy in /usr/local/lib/python3.10/dist-packages (from torch==2.1.0->torchvision) (1.12)\n",
            "Requirement already satisfied: networkx in /usr/local/lib/python3.10/dist-packages (from torch==2.1.0->torchvision) (3.2.1)\n",
            "Requirement already satisfied: jinja2 in /usr/local/lib/python3.10/dist-packages (from torch==2.1.0->torchvision) (3.1.2)\n",
            "Requirement already satisfied: fsspec in /usr/local/lib/python3.10/dist-packages (from torch==2.1.0->torchvision) (2023.6.0)\n",
            "Requirement already satisfied: triton==2.1.0 in /usr/local/lib/python3.10/dist-packages (from torch==2.1.0->torchvision) (2.1.0)\n",
            "Requirement already satisfied: charset-normalizer<4,>=2 in /usr/local/lib/python3.10/dist-packages (from requests->torchvision) (3.3.2)\n",
            "Requirement already satisfied: idna<4,>=2.5 in /usr/local/lib/python3.10/dist-packages (from requests->torchvision) (3.6)\n",
            "Requirement already satisfied: urllib3<3,>=1.21.1 in /usr/local/lib/python3.10/dist-packages (from requests->torchvision) (2.0.7)\n",
            "Requirement already satisfied: certifi>=2017.4.17 in /usr/local/lib/python3.10/dist-packages (from requests->torchvision) (2023.11.17)\n",
            "Requirement already satisfied: MarkupSafe>=2.0 in /usr/local/lib/python3.10/dist-packages (from jinja2->torch==2.1.0->torchvision) (2.1.3)\n",
            "Requirement already satisfied: mpmath>=0.19 in /usr/local/lib/python3.10/dist-packages (from sympy->torch==2.1.0->torchvision) (1.3.0)\n"
          ]
        }
      ],
      "source": [
        "!pip install torchvision\n",
        "import torch\n",
        "import torch.nn as nn\n",
        "import torchvision\n",
        "import torchvision.transforms as transforms\n",
        "import torchsummary\n",
        "from IPython.display import clear_output\n",
        "from matplotlib import pyplot as plt\n",
        "from matplotlib.pyplot import figure\n",
        "import numpy as np\n",
        "import os\n",
        "\n",
        "\n",
        "device = 'cuda:0' if torch.cuda.is_available() else 'cpu'"
      ]
    },
    {
      "cell_type": "code",
      "execution_count": null,
      "metadata": {
        "colab": {
          "base_uri": "https://localhost:8080/"
        },
        "id": "EdLOG0XqS_g5",
        "outputId": "9ee2f6db-e7c0-427b-b769-cb85965e35a9"
      },
      "outputs": [
        {
          "output_type": "stream",
          "name": "stdout",
          "text": [
            "Directory fmnist is created!\n"
          ]
        }
      ],
      "source": [
        "# Technical function\n",
        "def mkdir(path):\n",
        "    if not os.path.exists(root_path):\n",
        "        os.mkdir(root_path)\n",
        "        print('Directory', path, 'is created!')\n",
        "    else:\n",
        "        print('Directory', path, 'already exists!')\n",
        "\n",
        "root_path = 'fmnist'\n",
        "mkdir(root_path)"
      ]
    },
    {
      "cell_type": "code",
      "execution_count": null,
      "metadata": {
        "colab": {
          "base_uri": "https://localhost:8080/"
        },
        "id": "qt6LE7XaTDT9",
        "outputId": "303bf460-2ad5-4b6f-9354-123119d802a3"
      },
      "outputs": [
        {
          "output_type": "stream",
          "name": "stdout",
          "text": [
            "Downloading http://fashion-mnist.s3-website.eu-central-1.amazonaws.com/train-images-idx3-ubyte.gz\n",
            "Downloading http://fashion-mnist.s3-website.eu-central-1.amazonaws.com/train-images-idx3-ubyte.gz to fmnist/FashionMNIST/raw/train-images-idx3-ubyte.gz\n"
          ]
        },
        {
          "output_type": "stream",
          "name": "stderr",
          "text": [
            "100%|██████████| 26421880/26421880 [00:02<00:00, 11767796.23it/s]\n"
          ]
        },
        {
          "output_type": "stream",
          "name": "stdout",
          "text": [
            "Extracting fmnist/FashionMNIST/raw/train-images-idx3-ubyte.gz to fmnist/FashionMNIST/raw\n",
            "\n",
            "Downloading http://fashion-mnist.s3-website.eu-central-1.amazonaws.com/train-labels-idx1-ubyte.gz\n",
            "Downloading http://fashion-mnist.s3-website.eu-central-1.amazonaws.com/train-labels-idx1-ubyte.gz to fmnist/FashionMNIST/raw/train-labels-idx1-ubyte.gz\n"
          ]
        },
        {
          "output_type": "stream",
          "name": "stderr",
          "text": [
            "100%|██████████| 29515/29515 [00:00<00:00, 204954.00it/s]\n"
          ]
        },
        {
          "output_type": "stream",
          "name": "stdout",
          "text": [
            "Extracting fmnist/FashionMNIST/raw/train-labels-idx1-ubyte.gz to fmnist/FashionMNIST/raw\n",
            "\n",
            "Downloading http://fashion-mnist.s3-website.eu-central-1.amazonaws.com/t10k-images-idx3-ubyte.gz\n",
            "Downloading http://fashion-mnist.s3-website.eu-central-1.amazonaws.com/t10k-images-idx3-ubyte.gz to fmnist/FashionMNIST/raw/t10k-images-idx3-ubyte.gz\n"
          ]
        },
        {
          "output_type": "stream",
          "name": "stderr",
          "text": [
            "100%|██████████| 4422102/4422102 [00:01<00:00, 3942943.16it/s]\n"
          ]
        },
        {
          "output_type": "stream",
          "name": "stdout",
          "text": [
            "Extracting fmnist/FashionMNIST/raw/t10k-images-idx3-ubyte.gz to fmnist/FashionMNIST/raw\n",
            "\n",
            "Downloading http://fashion-mnist.s3-website.eu-central-1.amazonaws.com/t10k-labels-idx1-ubyte.gz\n",
            "Downloading http://fashion-mnist.s3-website.eu-central-1.amazonaws.com/t10k-labels-idx1-ubyte.gz to fmnist/FashionMNIST/raw/t10k-labels-idx1-ubyte.gz\n"
          ]
        },
        {
          "output_type": "stream",
          "name": "stderr",
          "text": [
            "100%|██████████| 5148/5148 [00:00<00:00, 20350873.70it/s]"
          ]
        },
        {
          "output_type": "stream",
          "name": "stdout",
          "text": [
            "Extracting fmnist/FashionMNIST/raw/t10k-labels-idx1-ubyte.gz to fmnist/FashionMNIST/raw\n",
            "\n"
          ]
        },
        {
          "output_type": "stream",
          "name": "stderr",
          "text": [
            "\n"
          ]
        }
      ],
      "source": [
        "download = True\n",
        "train_transform = transforms.ToTensor()\n",
        "test_transform = transforms.ToTensor()\n",
        "transforms.Compose((transforms.ToTensor()))\n",
        "\n",
        "\n",
        "fmnist_dataset_train = torchvision.datasets.FashionMNIST(root_path,\n",
        "                                                        train=True,\n",
        "                                                        transform=train_transform,\n",
        "                                                        target_transform=None,\n",
        "                                                        download=download)\n",
        "fmnist_dataset_test = torchvision.datasets.FashionMNIST(root_path,\n",
        "                                                       train=False,\n",
        "                                                       transform=test_transform,\n",
        "                                                       target_transform=None,\n",
        "                                                       download=download)"
      ]
    },
    {
      "cell_type": "code",
      "execution_count": null,
      "metadata": {
        "id": "71YP0SPwTIxD"
      },
      "outputs": [],
      "source": [
        "train_loader = torch.utils.data.DataLoader(fmnist_dataset_train,\n",
        "                                           batch_size=128,\n",
        "                                           shuffle=True,\n",
        "                                           num_workers=2)\n",
        "test_loader = torch.utils.data.DataLoader(fmnist_dataset_test,\n",
        "                                          batch_size=256,\n",
        "                                          shuffle=False,\n",
        "                                          num_workers=2)"
      ]
    },
    {
      "cell_type": "code",
      "execution_count": null,
      "metadata": {
        "colab": {
          "base_uri": "https://localhost:8080/"
        },
        "id": "aHca15bOTY4B",
        "outputId": "5aec1013-057b-4b3f-c4e3-cc1cc4464018"
      },
      "outputs": [
        {
          "output_type": "stream",
          "name": "stdout",
          "text": [
            "torch.Size([128, 1, 28, 28])\n",
            "torch.Size([128])\n",
            "128\n"
          ]
        }
      ],
      "source": [
        "for img, label in train_loader:\n",
        "    print(img.shape)\n",
        "    print(label.shape)\n",
        "    print(label.size(0))\n",
        "    break"
      ]
    },
    {
      "cell_type": "markdown",
      "metadata": {
        "id": "b6OOOffHTfX5"
      },
      "source": [
        "### Task 1\n",
        "Train a network that achieves $\\geq 0.885$ test accuracy. It's fine to use only Linear (`nn.Linear`) layers and activations/dropout/batchnorm. Convolutional layers might be a great use, but we will meet them a bit later."
      ]
    },
    {
      "cell_type": "code",
      "execution_count": null,
      "metadata": {
        "id": "ftpkTjxlTcFx"
      },
      "outputs": [],
      "source": [
        "class TinyNeuralNetwork(nn.Module):\n",
        "    def __init__(self, input_shape=28*28, num_classes=10, input_channels=1):\n",
        "        super(self.__class__, self).__init__()\n",
        "        self.model = nn.Sequential(\n",
        "            nn.Flatten(),\n",
        "            #\n",
        "            nn.Linear(input_shape, num_classes * 5),\n",
        "            nn.BatchNorm1d(num_classes * 5),\n",
        "            nn.ReLU(),\n",
        "            nn.Dropout1d(p=0.4),\n",
        "            nn.Linear(num_classes * 5, num_classes * 3),\n",
        "            nn.BatchNorm1d(num_classes * 3),\n",
        "\n",
        "\n",
        "\n",
        "            nn.ReLU(),\n",
        "            nn.Dropout1d(p=0.4),\n",
        "            nn.Linear(num_classes * 3, num_classes),\n",
        "            nn.LogSoftmax()\n",
        "\n",
        "\n",
        "\n",
        "        )\n",
        "\n",
        "    def forward(self, inp):\n",
        "        out = self.model(inp)\n",
        "        return out"
      ]
    },
    {
      "cell_type": "code",
      "execution_count": null,
      "metadata": {
        "colab": {
          "base_uri": "https://localhost:8080/"
        },
        "id": "U2Fzxs1Ld84l",
        "outputId": "56994bc5-552d-48b6-eaff-8acc977a46cc"
      },
      "outputs": [
        {
          "output_type": "stream",
          "name": "stdout",
          "text": [
            "----------------------------------------------------------------\n",
            "        Layer (type)               Output Shape         Param #\n",
            "================================================================\n",
            "           Flatten-1                  [-1, 784]               0\n",
            "            Linear-2                   [-1, 50]          39,250\n",
            "       BatchNorm1d-3                   [-1, 50]             100\n",
            "              ReLU-4                   [-1, 50]               0\n",
            "         Dropout1d-5                   [-1, 50]               0\n",
            "            Linear-6                   [-1, 30]           1,530\n",
            "       BatchNorm1d-7                   [-1, 30]              60\n",
            "              ReLU-8                   [-1, 30]               0\n",
            "         Dropout1d-9                   [-1, 30]               0\n",
            "           Linear-10                   [-1, 10]             310\n",
            "       LogSoftmax-11                   [-1, 10]               0\n",
            "================================================================\n",
            "Total params: 41,250\n",
            "Trainable params: 41,250\n",
            "Non-trainable params: 0\n",
            "----------------------------------------------------------------\n",
            "Input size (MB): 0.00\n",
            "Forward/backward pass size (MB): 0.01\n",
            "Params size (MB): 0.16\n",
            "Estimated Total Size (MB): 0.17\n",
            "----------------------------------------------------------------\n"
          ]
        },
        {
          "output_type": "stream",
          "name": "stderr",
          "text": [
            "/usr/local/lib/python3.10/dist-packages/torch/nn/modules/module.py:1518: UserWarning: Implicit dimension choice for log_softmax has been deprecated. Change the call to include dim=X as an argument.\n",
            "  return self._call_impl(*args, **kwargs)\n"
          ]
        }
      ],
      "source": [
        "torchsummary.summary(TinyNeuralNetwork().to(device), (28*28,))"
      ]
    },
    {
      "cell_type": "markdown",
      "metadata": {
        "id": "544PGKEnjPr5"
      },
      "source": [
        "Your experiments come here:"
      ]
    },
    {
      "cell_type": "code",
      "source": [
        "from tqdm import tqdm"
      ],
      "metadata": {
        "id": "lMtRzVygcdQk"
      },
      "execution_count": null,
      "outputs": []
    },
    {
      "cell_type": "code",
      "source": [
        "def get_batches(dataset, batch_size):\n",
        "    X, Y = dataset\n",
        "    n_samples = X.shape[0]\n",
        "\n",
        "    # Shuffle at the start of epoch\n",
        "    indices = np.arange(n_samples)\n",
        "    np.random.shuffle(indices)\n",
        "\n",
        "    for start in range(0, n_samples, batch_size):\n",
        "        end = min(start + batch_size, n_samples)\n",
        "\n",
        "        batch_idx = indices[start:end]\n",
        "\n",
        "        yield X[batch_idx], Y[batch_idx]"
      ],
      "metadata": {
        "id": "-2adJo_6mCbQ"
      },
      "execution_count": null,
      "outputs": []
    },
    {
      "cell_type": "code",
      "execution_count": null,
      "metadata": {
        "colab": {
          "base_uri": "https://localhost:8080/"
        },
        "id": "i3POFj90Ti-6",
        "outputId": "1129ff6b-8fb4-40aa-ae6d-d73f98a340e0"
      },
      "outputs": [
        {
          "output_type": "stream",
          "name": "stderr",
          "text": [
            "Loss: 1.5347252499574282: 100%|██████████| 50/50 [07:54<00:00,  9.48s/it]\n"
          ]
        }
      ],
      "source": [
        "model = TinyNeuralNetwork().to(device)\n",
        "opt = torch.optim.Adam(params=model.parameters(), lr=1e-3)\n",
        "loss_func = nn.NLLLoss()\n",
        "\n",
        "epochs = 50\n",
        "\n",
        "train_losses = []\n",
        "val_losses = []\n",
        "\n",
        "pbar = tqdm(range(epochs), desc='Total')\n",
        "for i in pbar:\n",
        "    pbar.set_description(\n",
        "        f'Loss: {0.0 if len(train_losses) == 0 else train_losses[-1]}'\n",
        "    )\n",
        "\n",
        "    model.train()\n",
        "    train_loss_epoch = []\n",
        "    for X_batch, y_batch in train_loader:\n",
        "        opt.zero_grad()\n",
        "        X_batch = X_batch.to(device)\n",
        "        y_batch = y_batch.to(device)\n",
        "\n",
        "        probs = model(X_batch)\n",
        "        loss = loss_func(probs, y_batch)\n",
        "        loss.backward()\n",
        "        opt.step()\n",
        "        train_loss_epoch.append(loss.item())\n",
        "\n",
        "    train_losses.append(np.mean(train_loss_epoch))\n",
        "\n",
        "    model.eval()\n",
        "    train_loss_epoch = []\n",
        "    for X_batch, y_batch in test_loader:\n",
        "        X_batch = X_batch.to(device)\n",
        "        y_batch = y_batch.to(device)\n",
        "\n",
        "        probs = model(X_batch)\n",
        "        loss = loss_func(probs, y_batch)\n",
        "        train_loss_epoch.append(loss.item())\n",
        "\n",
        "    val_losses.append(np.mean(train_loss_epoch))"
      ]
    },
    {
      "cell_type": "code",
      "source": [
        "fig, axes = plt.subplots(1, 1, figsize=(8, 8))\n",
        "plt.title('Batchnorm')\n",
        "plt.xlabel('epochs')\n",
        "plt.ylabel('loss')\n",
        "plt.yscale('logs')\n",
        "plt.plot(range(epochs), torch.Tensor(train_losses), label='train')\n",
        "plt.plot(range(epochs), torch.Tensor(val_losses), label='validation')\n",
        "plt.grid()\n",
        "plt.legend()"
      ],
      "metadata": {
        "colab": {
          "base_uri": "https://localhost:8080/",
          "height": 735
        },
        "id": "MG2qnU8kqGi5",
        "outputId": "6ce2d6c6-f224-48b2-f825-3ad7470adc13"
      },
      "execution_count": null,
      "outputs": [
        {
          "output_type": "execute_result",
          "data": {
            "text/plain": [
              "<matplotlib.legend.Legend at 0x7ae6758d5750>"
            ]
          },
          "metadata": {},
          "execution_count": 11
        },
        {
          "output_type": "display_data",
          "data": {
            "text/plain": [
              "<Figure size 800x800 with 1 Axes>"
            ],
            "image/png": "[encoded data removed]"
          },
          "metadata": {}
        }
      ]
    },
    {
      "cell_type": "code",
      "source": [
        "test_accuracy = 0.0\n",
        "target, total = 0, 0\n",
        "for X_batch, y_batch in test_loader:\n",
        "    X_batch = X_batch.to(device)\n",
        "    y_batch = y_batch.to(device)\n",
        "\n",
        "    probs = model(X_batch)\n",
        "    preds = probs.argmax(axis=1)\n",
        "    target += (preds == y_batch).sum().item()\n",
        "    total += len(y_batch)\n",
        "test_accuracy = target / total\n",
        "print('Accuracy:', test_accuracy)"
      ],
      "metadata": {
        "colab": {
          "base_uri": "https://localhost:8080/"
        },
        "id": "RxenGd4DqFRh",
        "outputId": "1cf2f0bc-06c0-4971-9e33-7f5d6ee3a1b2"
      },
      "execution_count": null,
      "outputs": [
        {
          "output_type": "stream",
          "name": "stderr",
          "text": [
            "/usr/local/lib/python3.10/dist-packages/torch/nn/modules/module.py:1518: UserWarning: Implicit dimension choice for log_softmax has been deprecated. Change the call to include dim=X as an argument.\n",
            "  return self._call_impl(*args, **kwargs)\n"
          ]
        },
        {
          "output_type": "stream",
          "name": "stdout",
          "text": [
            "Accuracy: 0.8766\n"
          ]
        }
      ]
    },
    {
      "cell_type": "markdown",
      "metadata": {
        "id": "L7ISqkjmCPB1"
      },
      "source": [
        "### Task 2: Overfit it.\n",
        "Build a network that will overfit to this dataset. Demonstrate the overfitting in the appropriate way (e.g. plot loss and accurasy on train and test set w.r.t. network complexity).\n",
        "\n",
        "*Note:* you also might decrease the size of `train` dataset to enforce the overfitting and speed up the computations."
      ]
    },
    {
      "cell_type": "markdown",
      "source": [
        "Here we can try just remove dropout and batchnormalization, increase number of neurons in hidden layers and increase the number of this layers."
      ],
      "metadata": {
        "id": "aYaic_E9ptJs"
      }
    },
    {
      "cell_type": "code",
      "execution_count": null,
      "metadata": {
        "id": "H12uAWiGBwJx"
      },
      "outputs": [],
      "source": [
        "class OverfittingNeuralNetwork(nn.Module):\n",
        "    def __init__(self, input_shape=28*28, num_classes=10, input_channels=1):\n",
        "        super(self.__class__, self).__init__()\n",
        "        self.model = nn.Sequential(\n",
        "            nn.Flatten(),\n",
        "            nn.Linear(input_shape, num_classes * 15),\n",
        "            nn.ReLU(),\n",
        "            nn.Linear(num_classes * 15, num_classes * 15),\n",
        "            nn.ReLU(),\n",
        "            nn.Linear(num_classes * 15, num_classes * 15),\n",
        "            nn.ReLU(),\n",
        "            nn.Linear(num_classes * 15, num_classes * 15),\n",
        "            nn.ReLU(),\n",
        "            nn.Linear(num_classes * 15, num_classes * 15),\n",
        "            nn.ReLU(),\n",
        "            nn.Linear(num_classes * 15, num_classes * 15),\n",
        "            nn.ReLU(),\n",
        "            nn.Linear(num_classes * 15, num_classes * 15),\n",
        "            nn.ReLU(),\n",
        "            nn.Linear(num_classes * 15, num_classes),\n",
        "            nn.LogSoftmax()\n",
        "        )\n",
        "\n",
        "    def forward(self, inp):\n",
        "        out = self.model(inp)\n",
        "        return out"
      ]
    },
    {
      "cell_type": "code",
      "execution_count": null,
      "metadata": {
        "colab": {
          "base_uri": "https://localhost:8080/"
        },
        "id": "JgXAKCpvCwqH",
        "outputId": "cd4573aa-73a9-4757-d881-33419af35068"
      },
      "outputs": [
        {
          "output_type": "stream",
          "name": "stdout",
          "text": [
            "----------------------------------------------------------------\n",
            "        Layer (type)               Output Shape         Param #\n",
            "================================================================\n",
            "           Flatten-1                  [-1, 784]               0\n",
            "            Linear-2                  [-1, 150]         117,750\n",
            "              ReLU-3                  [-1, 150]               0\n",
            "            Linear-4                  [-1, 150]          22,650\n",
            "              ReLU-5                  [-1, 150]               0\n",
            "            Linear-6                  [-1, 150]          22,650\n",
            "              ReLU-7                  [-1, 150]               0\n",
            "            Linear-8                  [-1, 150]          22,650\n",
            "              ReLU-9                  [-1, 150]               0\n",
            "           Linear-10                  [-1, 150]          22,650\n",
            "             ReLU-11                  [-1, 150]               0\n",
            "           Linear-12                  [-1, 150]          22,650\n",
            "             ReLU-13                  [-1, 150]               0\n",
            "           Linear-14                  [-1, 150]          22,650\n",
            "             ReLU-15                  [-1, 150]               0\n",
            "           Linear-16                   [-1, 10]           1,510\n",
            "       LogSoftmax-17                   [-1, 10]               0\n",
            "================================================================\n",
            "Total params: 255,160\n",
            "Trainable params: 255,160\n",
            "Non-trainable params: 0\n",
            "----------------------------------------------------------------\n",
            "Input size (MB): 0.00\n",
            "Forward/backward pass size (MB): 0.02\n",
            "Params size (MB): 0.97\n",
            "Estimated Total Size (MB): 1.00\n",
            "----------------------------------------------------------------\n"
          ]
        }
      ],
      "source": [
        "torchsummary.summary(OverfittingNeuralNetwork().to(device), (28*28,))"
      ]
    },
    {
      "cell_type": "code",
      "execution_count": null,
      "metadata": {
        "colab": {
          "base_uri": "https://localhost:8080/"
        },
        "id": "3VlKoN45d84r",
        "outputId": "7db40b76-d39d-4535-bf9b-e59be2962719"
      },
      "outputs": [
        {
          "output_type": "stream",
          "name": "stderr",
          "text": [
            "Total: 100%|██████████| 50/50 [07:55<00:00,  9.51s/it]\n"
          ]
        }
      ],
      "source": [
        "model = OverfittingNeuralNetwork().to(device)\n",
        "opt = torch.optim.Adam(params=model.parameters(), lr=3e-3)\n",
        "loss_func = nn.NLLLoss()\n",
        "\n",
        "# Your experiments, come here\n",
        "epochs = 50\n",
        "\n",
        "train_loss = []\n",
        "val_loss = []\n",
        "\n",
        "pbar = tqdm(range(epochs), desc='Total')\n",
        "for i in pbar:\n",
        "    model.train()\n",
        "    train_loss_epoch = []\n",
        "    for X_batch, y_batch in train_loader:\n",
        "        opt.zero_grad()\n",
        "        X_batch = X_batch.to(device)\n",
        "        y_batch = y_batch.to(device)\n",
        "        probs = model(X_batch)\n",
        "        loss = loss_func(probs, y_batch)\n",
        "        loss.backward()\n",
        "        opt.step()\n",
        "        train_loss_epoch.append(loss.item())\n",
        "    train_loss.append(np.mean(train_loss_epoch))\n",
        "    model.eval()\n",
        "    train_loss_epoch = []\n",
        "    for X_batch, y_batch in test_loader:\n",
        "        X_batch = X_batch.to(device)\n",
        "        y_batch = y_batch.to(device)\n",
        "        probs = model(X_batch)\n",
        "        loss = loss_func(probs, y_batch)\n",
        "        train_loss_epoch.append(loss.item())\n",
        "    val_loss.append(np.mean(train_loss_epoch))"
      ]
    },
    {
      "cell_type": "code",
      "source": [
        "fig, axes = plt.subplots(1, 1, figsize=(8, 8))\n",
        "\n",
        "plt.title('Batchnorm')\n",
        "\n",
        "plt.xlabel('epochs')\n",
        "plt.ylabel('losses')\n",
        "plt.yscale('log')\n",
        "\n",
        "plt.plot(range(epochs), torch.Tensor(train_losses))\n",
        "plt.plot(range(epochs), torch.Tensor(val_losses))\n",
        "plt.grid()\n",
        "plt.legend()"
      ],
      "metadata": {
        "colab": {
          "base_uri": "https://localhost:8080/",
          "height": 753
        },
        "id": "rQ9LbW5MvnHM",
        "outputId": "15c27116-c616-49d8-e73e-ca964cf275c3"
      },
      "execution_count": null,
      "outputs": [
        {
          "output_type": "stream",
          "name": "stderr",
          "text": [
            "WARNING:matplotlib.legend:No artists with labels found to put in legend.  Note that artists whose label start with an underscore are ignored when legend() is called with no argument.\n"
          ]
        },
        {
          "output_type": "execute_result",
          "data": {
            "text/plain": [
              "<matplotlib.legend.Legend at 0x7ae75972ba60>"
            ]
          },
          "metadata": {},
          "execution_count": 17
        },
        {
          "output_type": "display_data",
          "data": {
            "text/plain": [
              "<Figure size 800x800 with 1 Axes>"
            ],
            "image/png": "[encoded data removed]"
          },
          "metadata": {}
        }
      ]
    },
    {
      "cell_type": "code",
      "source": [
        "test_accuracy = 0.0\n",
        "correct, total = 0, 0\n",
        "for X_batch, y_batch in train_loader:\n",
        "    X_batch = X_batch.to(device)\n",
        "    y_batch = y_batch.to(device)\n",
        "    probs = model(X_batch)\n",
        "    preds = probs.argmax(axis=1)\n",
        "    correct += (preds == y_batch).sum().item()\n",
        "    total += len(y_batch)\n",
        "train_accuracy = correct / total\n",
        "print('Accuracy:', train_accuracy)"
      ],
      "metadata": {
        "colab": {
          "base_uri": "https://localhost:8080/"
        },
        "id": "vLwZIMityGur",
        "outputId": "6336fc80-4422-4ecb-e047-4f18717e70da"
      },
      "execution_count": null,
      "outputs": [
        {
          "output_type": "stream",
          "name": "stdout",
          "text": [
            "Accuracy: 0.9321333333333334\n"
          ]
        }
      ]
    },
    {
      "cell_type": "code",
      "source": [
        "test_accuracy = 0.0\n",
        "correct, total = 0, 0\n",
        "for X_batch, y_batch in test_loader:\n",
        "    X_batch = X_batch.to(device)\n",
        "    y_batch = y_batch.to(device)\n",
        "    probs = model(X_batch)\n",
        "    preds = probs.argmax(axis=1)\n",
        "    correct += (preds == y_batch).sum().item()\n",
        "    total += len(y_batch)\n",
        "test_accuracy = correct / total\n",
        "print('Accuracy:', test_accuracy)"
      ],
      "metadata": {
        "colab": {
          "base_uri": "https://localhost:8080/"
        },
        "id": "HMG246TWvnAM",
        "outputId": "b1b4825b-6bf4-40da-9b65-b78daea16adc"
      },
      "execution_count": null,
      "outputs": [
        {
          "output_type": "stream",
          "name": "stdout",
          "text": [
            "Accuracy: 0.882\n"
          ]
        }
      ]
    },
    {
      "cell_type": "markdown",
      "metadata": {
        "id": "KS3_q20Dd84s"
      },
      "source": [
        "### Task 3: Fix it.\n",
        "Fix the overfitted network from the previous step (at least partially) by using regularization techniques (Dropout/Batchnorm/...) and demonstrate the results."
      ]
    },
    {
      "cell_type": "code",
      "execution_count": null,
      "metadata": {
        "id": "mO5MRHqod84s"
      },
      "outputs": [],
      "source": [
        "class FixedNeuralNetwork(nn.Module):\n",
        "    def __init__(self, input_shape=28*28, num_classes=10, input_channels=1):\n",
        "        super(self.__class__, self).__init__()\n",
        "        self.model = nn.Sequential(\n",
        "            nn.Flatten(),\n",
        "            nn.Linear(input_shape, num_classes * 20),\n",
        "            nn.BatchNorm1d(num_classes * 20),\n",
        "            nn.ReLU(),\n",
        "\n",
        "\n",
        "\n",
        "            nn.Dropout1d(p=0.5),\n",
        "            nn.Linear(num_classes * 20, num_classes * 20),\n",
        "            nn.BatchNorm1d(num_classes * 20),\n",
        "            nn.ReLU(),\n",
        "            nn.Dropout1d(p=0.5),\n",
        "            nn.Linear(num_classes * 20, num_classes * 20),\n",
        "            nn.BatchNorm1d(num_classes * 20),\n",
        "            nn.ReLU(),\n",
        "            nn.Dropout1d(p=0.5),\n",
        "            nn.Linear(num_classes * 20, num_classes * 20),\n",
        "            nn.BatchNorm1d(num_classes * 20),\n",
        "            nn.ReLU(),\n",
        "            nn.Dropout1d(p=0.5),\n",
        "            nn.Linear(num_classes * 20, num_classes),\n",
        "            nn.LogSoftmax()\n",
        "        )\n",
        "    def forward(self, inp):\n",
        "        out = self.model(inp)\n",
        "        return out"
      ]
    },
    {
      "cell_type": "code",
      "execution_count": null,
      "metadata": {
        "colab": {
          "base_uri": "https://localhost:8080/"
        },
        "id": "WabyKbPod84u",
        "outputId": "6be6b39b-351e-4816-91fa-e06908858eac"
      },
      "outputs": [
        {
          "output_type": "stream",
          "name": "stderr",
          "text": [
            "Loss: 2.1816915184704224: 100%|██████████| 50/50 [08:00<00:00,  9.62s/it]\n"
          ]
        }
      ],
      "source": [
        "model = FixedNeuralNetwork().to(device)\n",
        "opt = torch.optim.Adam(params=model.parameters(), lr=3e-3) # YOUR CODE HERE\n",
        "loss_func = nn.NLLLoss() # YOUR CODE HERE\n",
        "\n",
        "# Your experiments, come here\n",
        "epochs = 50\n",
        "\n",
        "train_losses = [] # for each epoch\n",
        "val_losses = [] # for each epoch\n",
        "\n",
        "pbar = tqdm(range(epochs), desc='Total')\n",
        "for i in pbar:\n",
        "    pbar.set_description(\n",
        "        f'Loss: {0.0 if len(train_losses) == 0 else train_losses[-1]}'\n",
        "    )\n",
        "\n",
        "    model.train()\n",
        "    train_loss_epoch = []\n",
        "    for X_batch, y_batch in train_loader:\n",
        "        opt.zero_grad()\n",
        "        X_batch = X_batch.to(device)\n",
        "        y_batch = y_batch.to(device)\n",
        "\n",
        "        probs = model(X_batch)\n",
        "        loss = loss_func(probs, y_batch)\n",
        "        loss.backward()\n",
        "        opt.step()\n",
        "        train_loss_epoch.append(loss.item())\n",
        "\n",
        "    train_losses.append(np.mean(train_loss_epoch))\n",
        "\n",
        "    model.eval()\n",
        "    train_loss_epoch = []\n",
        "    for X_batch, y_batch in test_loader:\n",
        "        X_batch = X_batch.to(device)\n",
        "        y_batch = y_batch.to(device)\n",
        "\n",
        "        probs = model(X_batch)\n",
        "        loss = loss_func(probs, y_batch)\n",
        "        train_loss_epoch.append(loss.item())\n",
        "\n",
        "    val_losses.append(np.mean(train_loss_epoch))"
      ]
    },
    {
      "cell_type": "code",
      "source": [
        "fig, axes = plt.subplots(1, 1, figsize=(8, 8))\n",
        "plt.title('Batchnorm')\n",
        "plt.xlabel('epoch')\n",
        "plt.ylabel('loss')\n",
        "plt.yscale('log')\n",
        "plt.plot(range(epochs), torch.Tensor(train_losses), label='Train')\n",
        "plt.plot(range(epochs), torch.Tensor(val_losses), label='Val')\n",
        "plt.grid()\n",
        "plt.legend()"
      ],
      "metadata": {
        "colab": {
          "base_uri": "https://localhost:8080/",
          "height": 735
        },
        "id": "-8ujDy52wvLi",
        "outputId": "9af0a518-57cb-4035-dfd8-512e9a965ff5"
      },
      "execution_count": null,
      "outputs": [
        {
          "output_type": "execute_result",
          "data": {
            "text/plain": [
              "<matplotlib.legend.Legend at 0x7ae6589ff160>"
            ]
          },
          "metadata": {},
          "execution_count": 22
        },
        {
          "output_type": "display_data",
          "data": {
            "text/plain": [
              "<Figure size 800x800 with 1 Axes>"
            ],
            "image/png": "[encoded data removed]"
          },
          "metadata": {}
        }
      ]
    },
    {
      "cell_type": "code",
      "source": [
        "test_accuracy = 0.0\n",
        "correct, total = 0, 0\n",
        "for X_batch, y_batch in train_loader:\n",
        "    X_batch = X_batch.to(device)\n",
        "    y_batch = y_batch.to(device)\n",
        "    probs = model(X_batch)\n",
        "    preds = probs.argmax(axis=1)\n",
        "    correct += (preds == y_batch).sum().item()\n",
        "    total += len(y_batch)\n",
        "train_accuracy = correct / total\n",
        "print('Accuracy:', train_accuracy)"
      ],
      "metadata": {
        "colab": {
          "base_uri": "https://localhost:8080/"
        },
        "id": "g3Mh_huAyWvU",
        "outputId": "b29095d3-35bf-42c7-aa5b-e036bc1a0c7f"
      },
      "execution_count": null,
      "outputs": [
        {
          "output_type": "stream",
          "name": "stdout",
          "text": [
            "Accuracy: 0.8791666666666667\n"
          ]
        }
      ]
    },
    {
      "cell_type": "code",
      "source": [
        "test_accuracy = 0.0\n",
        "correct, total = 0, 0\n",
        "for X_batch, y_batch in test_loader:\n",
        "    X_batch = X_batch.to(device)\n",
        "    y_batch = y_batch.to(device)\n",
        "    probs = model(X_batch)\n",
        "    preds = probs.argmax(axis=1)\n",
        "    correct += (preds == y_batch).sum().item()\n",
        "    total += len(y_batch)\n",
        "test_accuracy = correct / total\n",
        "print('Accuracy:', test_accuracy)"
      ],
      "metadata": {
        "colab": {
          "base_uri": "https://localhost:8080/"
        },
        "id": "rR9zu5WswvFA",
        "outputId": "112bee43-9f6f-4542-9709-20851d81eee6"
      },
      "execution_count": null,
      "outputs": [
        {
          "output_type": "stream",
          "name": "stdout",
          "text": [
            "Accuracy: 0.8546\n"
          ]
        }
      ]
    }
  ],
  "metadata": {
    "accelerator": "GPU",
    "colab": {
      "provenance": []
    },
    "kernelspec": {
      "display_name": "Python 3 (ipykernel)",
      "language": "python",
      "name": "python3"
    },
    "language_info": {
      "codemirror_mode": {
        "name": "ipython",
        "version": 3
      },
      "file_extension": ".py",
      "mimetype": "text/x-python",
      "name": "python",
      "nbconvert_exporter": "python",
      "pygments_lexer": "ipython3",
      "version": "3.8.10"
    }
  },
  "nbformat": 4,
  "nbformat_minor": 0
}