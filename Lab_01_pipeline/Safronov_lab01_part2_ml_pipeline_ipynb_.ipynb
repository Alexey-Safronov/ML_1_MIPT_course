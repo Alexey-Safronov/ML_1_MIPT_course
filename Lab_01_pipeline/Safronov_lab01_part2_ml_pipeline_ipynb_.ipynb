{
  "cells": [
    {
      "cell_type": "markdown",
      "metadata": {
        "nbgrader": {
          "grade": false,
          "grade_id": "cell-86e0de040aac317a",
          "locked": true,
          "schema_version": 2,
          "solution": false
        },
        "id": "i79JalY6qtmo"
      },
      "source": [
        "# Lab assignment №1, part 2\n",
        "\n",
        "This lab assignment consists of several parts. You are supposed to make some transformations, train some models, estimate the quality of the models and explain your results.\n",
        "\n",
        "Several comments:\n",
        "* Don't hesitate to ask questions, it's a good practice.\n",
        "* No private/public sharing, please. The copied assignments will be graded with 0 points.\n",
        "* Blocks of this lab will be graded separately."
      ]
    },
    {
      "cell_type": "markdown",
      "metadata": {
        "id": "_g0wARpiqtmx"
      },
      "source": [
        "__*This is the second part of the assignment. First and third parts are waiting for you in the same directory.*__"
      ]
    },
    {
      "cell_type": "markdown",
      "metadata": {
        "nbgrader": {
          "grade": false,
          "grade_id": "cell-512ba712fc0fc065",
          "locked": true,
          "schema_version": 2,
          "solution": false
        },
        "id": "8rOE2Zr_qtmy"
      },
      "source": [
        "## Part 2. Data preprocessing, model training and evaluation."
      ]
    },
    {
      "cell_type": "markdown",
      "metadata": {
        "nbgrader": {
          "grade": false,
          "grade_id": "cell-b656a4266174b009",
          "locked": true,
          "schema_version": 2,
          "solution": false
        },
        "id": "88MWV6PVqtmz"
      },
      "source": [
        "### 1. Reading the data\n",
        "Today we work with the [dataset](https://archive.ics.uci.edu/ml/datasets/Statlog+%28Vehicle+Silhouettes%29), describing different cars for multiclass ($k=4$) classification problem. The data is available below."
      ]
    },
    {
      "cell_type": "code",
      "execution_count": null,
      "metadata": {
        "id": "QH2QDS2Dqtm0",
        "outputId": "48e76050-cd46-4def-b637-139b9be3dafd",
        "colab": {
          "base_uri": "https://localhost:8080/"
        }
      },
      "outputs": [
        {
          "output_type": "stream",
          "name": "stdout",
          "text": [
            "--2023-11-05 07:32:55--  https://raw.githubusercontent.com/girafe-ai/ml-course/22f_made/homeworks/lab01_ml_pipeline/car_data.csv\n",
            "Resolving raw.githubusercontent.com (raw.githubusercontent.com)... 185.199.108.133, 185.199.110.133, 185.199.109.133, ...\n",
            "Connecting to raw.githubusercontent.com (raw.githubusercontent.com)|185.199.108.133|:443... connected.\n",
            "HTTP request sent, awaiting response... 200 OK\n",
            "Length: 58374 (57K) [text/plain]\n",
            "Saving to: ‘car_data.csv’\n",
            "\n",
            "\rcar_data.csv          0%[                    ]       0  --.-KB/s               \rcar_data.csv        100%[===================>]  57.01K  --.-KB/s    in 0.02s   \n",
            "\n",
            "2023-11-05 07:32:55 (3.70 MB/s) - ‘car_data.csv’ saved [58374/58374]\n",
            "\n"
          ]
        }
      ],
      "source": [
        "# If on colab, uncomment the following lines\n",
        "\n",
        "! wget https://raw.githubusercontent.com/girafe-ai/ml-course/22f_made/homeworks/lab01_ml_pipeline/car_data.csv"
      ]
    },
    {
      "cell_type": "code",
      "execution_count": null,
      "metadata": {
        "nbgrader": {
          "grade": false,
          "grade_id": "cell-eebac6bfdf73d0bc",
          "locked": true,
          "schema_version": 2,
          "solution": false
        },
        "id": "ZDXcrl1Fqtm2",
        "outputId": "fed34997-dbf0-422d-e6af-3ca6dbe65eeb",
        "colab": {
          "base_uri": "https://localhost:8080/"
        }
      },
      "outputs": [
        {
          "output_type": "stream",
          "name": "stdout",
          "text": [
            "(846, 19) (846,)\n",
            "(549, 19) (549,) (297, 19) (297,)\n"
          ]
        }
      ],
      "source": [
        "import pandas as pd\n",
        "import numpy as np\n",
        "from sklearn.model_selection import train_test_split\n",
        "\n",
        "dataset = pd.read_csv('car_data.csv', delimiter=',', header=None).values\n",
        "data = dataset[:, :-1].astype(int)\n",
        "target = dataset[:, -1]\n",
        "\n",
        "print(data.shape, target.shape)\n",
        "\n",
        "X_train, X_test, y_train, y_test = train_test_split(data, target, test_size=0.35)\n",
        "print(X_train.shape, y_train.shape, X_test.shape, y_test.shape)"
      ]
    },
    {
      "cell_type": "code",
      "source": [
        "\n",
        "\n"
      ],
      "metadata": {
        "id": "nifeLFXKOKXj"
      },
      "execution_count": null,
      "outputs": []
    },
    {
      "cell_type": "markdown",
      "metadata": {
        "nbgrader": {
          "grade": false,
          "grade_id": "cell-88b1a0f688568f2c",
          "locked": true,
          "schema_version": 2,
          "solution": false
        },
        "id": "MmvNebqZqtm4"
      },
      "source": [
        "To get some insights about the dataset, `pandas` might be used. The `train` part is transformed to `pd.DataFrame` below."
      ]
    },
    {
      "cell_type": "code",
      "execution_count": null,
      "metadata": {
        "id": "n9u-_hZlqtm5",
        "outputId": "965c9452-ef68-45b5-b3ec-af6f483a9121",
        "colab": {
          "base_uri": "https://localhost:8080/",
          "height": 519
        }
      },
      "outputs": [
        {
          "output_type": "execute_result",
          "data": {
            "text/plain": [
              "     0    1   2    3    4   5   6    7   8   9    10   11   12   13  14  15  \\\n",
              "0   665   90  47   85  161  64  10  163  42  20  160  177  389  185  73   9   \n",
              "1   492   85  43   66  130  57   6  151  45  19  143  173  333  168  86   4   \n",
              "2    52   98  55  101  228  70   9  210  31  24  168  236  661  245  72   1   \n",
              "3    10   86  36   70  143  61   9  133  50  18  130  153  266  127  66   2   \n",
              "4   620  108  56  103  234  73  10  221  30  25  174  232  718  214  73   8   \n",
              "5   101   95  42   85  174  66   9  153  44  19  144  168  347  150  65  11   \n",
              "6   475   97  55  104  219  71   9  211  32  24  171  222  658  223  74   1   \n",
              "7   455   81  43   68  139  62   7  149  46  19  145  172  323  171  83   1   \n",
              "8   138   88  37   63  130  58   5  125  54  18  130  141  230  145  74  14   \n",
              "9   341   86  40   75  146  62   6  140  48  18  135  158  290  162  72   3   \n",
              "10   51   92  38   71  174  66   7  154  43  19  133  181  355  130  70   4   \n",
              "11  236   96  37   74  199  74   5  165  39  20  128  188  419  136  72   1   \n",
              "12  651   85  40   66  136  58   6  142  48  19  137  164  295  164  77   2   \n",
              "13  499  102  54   98  167  53  10  217  31  24  174  228  692  223  72   0   \n",
              "14  568   86  43   69  123  54   6  150  46  19  144  174  325  177  87   3   \n",
              "\n",
              "    16   17   18  \n",
              "0    0  185  195  \n",
              "1    9  180  183  \n",
              "2    6  188  197  \n",
              "3   10  194  202  \n",
              "4    3  187  197  \n",
              "5    5  196  204  \n",
              "6   24  186  196  \n",
              "7   14  180  184  \n",
              "8   20  184  188  \n",
              "9   21  183  190  \n",
              "10  24  189  195  \n",
              "11   3  196  200  \n",
              "12  22  182  186  \n",
              "13  31  187  198  \n",
              "14   7  180  182  "
            ],
            "text/html": [
              "\n",
              "  <div id=\"df-8ff42bd9-f978-4b34-a3ea-dafea9520a79\" class=\"colab-df-container\">\n",
              "    <div>\n",
              "<style scoped>\n",
              "    .dataframe tbody tr th:only-of-type {\n",
              "        vertical-align: middle;\n",
              "    }\n",
              "\n",
              "    .dataframe tbody tr th {\n",
              "        vertical-align: top;\n",
              "    }\n",
              "\n",
              "    .dataframe thead th {\n",
              "        text-align: right;\n",
              "    }\n",
              "</style>\n",
              "<table border=\"1\" class=\"dataframe\">\n",
              "  <thead>\n",
              "    <tr style=\"text-align: right;\">\n",
              "      <th></th>\n",
              "      <th>0</th>\n",
              "      <th>1</th>\n",
              "      <th>2</th>\n",
              "      <th>3</th>\n",
              "      <th>4</th>\n",
              "      <th>5</th>\n",
              "      <th>6</th>\n",
              "      <th>7</th>\n",
              "      <th>8</th>\n",
              "      <th>9</th>\n",
              "      <th>10</th>\n",
              "      <th>11</th>\n",
              "      <th>12</th>\n",
              "      <th>13</th>\n",
              "      <th>14</th>\n",
              "      <th>15</th>\n",
              "      <th>16</th>\n",
              "      <th>17</th>\n",
              "      <th>18</th>\n",
              "    </tr>\n",
              "  </thead>\n",
              "  <tbody>\n",
              "    <tr>\n",
              "      <th>0</th>\n",
              "      <td>665</td>\n",
              "      <td>90</td>\n",
              "      <td>47</td>\n",
              "      <td>85</td>\n",
              "      <td>161</td>\n",
              "      <td>64</td>\n",
              "      <td>10</td>\n",
              "      <td>163</td>\n",
              "      <td>42</td>\n",
              "      <td>20</td>\n",
              "      <td>160</td>\n",
              "      <td>177</td>\n",
              "      <td>389</td>\n",
              "      <td>185</td>\n",
              "      <td>73</td>\n",
              "      <td>9</td>\n",
              "      <td>0</td>\n",
              "      <td>185</td>\n",
              "      <td>195</td>\n",
              "    </tr>\n",
              "    <tr>\n",
              "      <th>1</th>\n",
              "      <td>492</td>\n",
              "      <td>85</td>\n",
              "      <td>43</td>\n",
              "      <td>66</td>\n",
              "      <td>130</td>\n",
              "      <td>57</td>\n",
              "      <td>6</td>\n",
              "      <td>151</td>\n",
              "      <td>45</td>\n",
              "      <td>19</td>\n",
              "      <td>143</td>\n",
              "      <td>173</td>\n",
              "      <td>333</td>\n",
              "      <td>168</td>\n",
              "      <td>86</td>\n",
              "      <td>4</td>\n",
              "      <td>9</td>\n",
              "      <td>180</td>\n",
              "      <td>183</td>\n",
              "    </tr>\n",
              "    <tr>\n",
              "      <th>2</th>\n",
              "      <td>52</td>\n",
              "      <td>98</td>\n",
              "      <td>55</td>\n",
              "      <td>101</td>\n",
              "      <td>228</td>\n",
              "      <td>70</td>\n",
              "      <td>9</td>\n",
              "      <td>210</td>\n",
              "      <td>31</td>\n",
              "      <td>24</td>\n",
              "      <td>168</td>\n",
              "      <td>236</td>\n",
              "      <td>661</td>\n",
              "      <td>245</td>\n",
              "      <td>72</td>\n",
              "      <td>1</td>\n",
              "      <td>6</td>\n",
              "      <td>188</td>\n",
              "      <td>197</td>\n",
              "    </tr>\n",
              "    <tr>\n",
              "      <th>3</th>\n",
              "      <td>10</td>\n",
              "      <td>86</td>\n",
              "      <td>36</td>\n",
              "      <td>70</td>\n",
              "      <td>143</td>\n",
              "      <td>61</td>\n",
              "      <td>9</td>\n",
              "      <td>133</td>\n",
              "      <td>50</td>\n",
              "      <td>18</td>\n",
              "      <td>130</td>\n",
              "      <td>153</td>\n",
              "      <td>266</td>\n",
              "      <td>127</td>\n",
              "      <td>66</td>\n",
              "      <td>2</td>\n",
              "      <td>10</td>\n",
              "      <td>194</td>\n",
              "      <td>202</td>\n",
              "    </tr>\n",
              "    <tr>\n",
              "      <th>4</th>\n",
              "      <td>620</td>\n",
              "      <td>108</td>\n",
              "      <td>56</td>\n",
              "      <td>103</td>\n",
              "      <td>234</td>\n",
              "      <td>73</td>\n",
              "      <td>10</td>\n",
              "      <td>221</td>\n",
              "      <td>30</td>\n",
              "      <td>25</td>\n",
              "      <td>174</td>\n",
              "      <td>232</td>\n",
              "      <td>718</td>\n",
              "      <td>214</td>\n",
              "      <td>73</td>\n",
              "      <td>8</td>\n",
              "      <td>3</td>\n",
              "      <td>187</td>\n",
              "      <td>197</td>\n",
              "    </tr>\n",
              "    <tr>\n",
              "      <th>5</th>\n",
              "      <td>101</td>\n",
              "      <td>95</td>\n",
              "      <td>42</td>\n",
              "      <td>85</td>\n",
              "      <td>174</td>\n",
              "      <td>66</td>\n",
              "      <td>9</td>\n",
              "      <td>153</td>\n",
              "      <td>44</td>\n",
              "      <td>19</td>\n",
              "      <td>144</td>\n",
              "      <td>168</td>\n",
              "      <td>347</td>\n",
              "      <td>150</td>\n",
              "      <td>65</td>\n",
              "      <td>11</td>\n",
              "      <td>5</td>\n",
              "      <td>196</td>\n",
              "      <td>204</td>\n",
              "    </tr>\n",
              "    <tr>\n",
              "      <th>6</th>\n",
              "      <td>475</td>\n",
              "      <td>97</td>\n",
              "      <td>55</td>\n",
              "      <td>104</td>\n",
              "      <td>219</td>\n",
              "      <td>71</td>\n",
              "      <td>9</td>\n",
              "      <td>211</td>\n",
              "      <td>32</td>\n",
              "      <td>24</td>\n",
              "      <td>171</td>\n",
              "      <td>222</td>\n",
              "      <td>658</td>\n",
              "      <td>223</td>\n",
              "      <td>74</td>\n",
              "      <td>1</td>\n",
              "      <td>24</td>\n",
              "      <td>186</td>\n",
              "      <td>196</td>\n",
              "    </tr>\n",
              "    <tr>\n",
              "      <th>7</th>\n",
              "      <td>455</td>\n",
              "      <td>81</td>\n",
              "      <td>43</td>\n",
              "      <td>68</td>\n",
              "      <td>139</td>\n",
              "      <td>62</td>\n",
              "      <td>7</td>\n",
              "      <td>149</td>\n",
              "      <td>46</td>\n",
              "      <td>19</td>\n",
              "      <td>145</td>\n",
              "      <td>172</td>\n",
              "      <td>323</td>\n",
              "      <td>171</td>\n",
              "      <td>83</td>\n",
              "      <td>1</td>\n",
              "      <td>14</td>\n",
              "      <td>180</td>\n",
              "      <td>184</td>\n",
              "    </tr>\n",
              "    <tr>\n",
              "      <th>8</th>\n",
              "      <td>138</td>\n",
              "      <td>88</td>\n",
              "      <td>37</td>\n",
              "      <td>63</td>\n",
              "      <td>130</td>\n",
              "      <td>58</td>\n",
              "      <td>5</td>\n",
              "      <td>125</td>\n",
              "      <td>54</td>\n",
              "      <td>18</td>\n",
              "      <td>130</td>\n",
              "      <td>141</td>\n",
              "      <td>230</td>\n",
              "      <td>145</td>\n",
              "      <td>74</td>\n",
              "      <td>14</td>\n",
              "      <td>20</td>\n",
              "      <td>184</td>\n",
              "      <td>188</td>\n",
              "    </tr>\n",
              "    <tr>\n",
              "      <th>9</th>\n",
              "      <td>341</td>\n",
              "      <td>86</td>\n",
              "      <td>40</td>\n",
              "      <td>75</td>\n",
              "      <td>146</td>\n",
              "      <td>62</td>\n",
              "      <td>6</td>\n",
              "      <td>140</td>\n",
              "      <td>48</td>\n",
              "      <td>18</td>\n",
              "      <td>135</td>\n",
              "      <td>158</td>\n",
              "      <td>290</td>\n",
              "      <td>162</td>\n",
              "      <td>72</td>\n",
              "      <td>3</td>\n",
              "      <td>21</td>\n",
              "      <td>183</td>\n",
              "      <td>190</td>\n",
              "    </tr>\n",
              "    <tr>\n",
              "      <th>10</th>\n",
              "      <td>51</td>\n",
              "      <td>92</td>\n",
              "      <td>38</td>\n",
              "      <td>71</td>\n",
              "      <td>174</td>\n",
              "      <td>66</td>\n",
              "      <td>7</td>\n",
              "      <td>154</td>\n",
              "      <td>43</td>\n",
              "      <td>19</td>\n",
              "      <td>133</td>\n",
              "      <td>181</td>\n",
              "      <td>355</td>\n",
              "      <td>130</td>\n",
              "      <td>70</td>\n",
              "      <td>4</td>\n",
              "      <td>24</td>\n",
              "      <td>189</td>\n",
              "      <td>195</td>\n",
              "    </tr>\n",
              "    <tr>\n",
              "      <th>11</th>\n",
              "      <td>236</td>\n",
              "      <td>96</td>\n",
              "      <td>37</td>\n",
              "      <td>74</td>\n",
              "      <td>199</td>\n",
              "      <td>74</td>\n",
              "      <td>5</td>\n",
              "      <td>165</td>\n",
              "      <td>39</td>\n",
              "      <td>20</td>\n",
              "      <td>128</td>\n",
              "      <td>188</td>\n",
              "      <td>419</td>\n",
              "      <td>136</td>\n",
              "      <td>72</td>\n",
              "      <td>1</td>\n",
              "      <td>3</td>\n",
              "      <td>196</td>\n",
              "      <td>200</td>\n",
              "    </tr>\n",
              "    <tr>\n",
              "      <th>12</th>\n",
              "      <td>651</td>\n",
              "      <td>85</td>\n",
              "      <td>40</td>\n",
              "      <td>66</td>\n",
              "      <td>136</td>\n",
              "      <td>58</td>\n",
              "      <td>6</td>\n",
              "      <td>142</td>\n",
              "      <td>48</td>\n",
              "      <td>19</td>\n",
              "      <td>137</td>\n",
              "      <td>164</td>\n",
              "      <td>295</td>\n",
              "      <td>164</td>\n",
              "      <td>77</td>\n",
              "      <td>2</td>\n",
              "      <td>22</td>\n",
              "      <td>182</td>\n",
              "      <td>186</td>\n",
              "    </tr>\n",
              "    <tr>\n",
              "      <th>13</th>\n",
              "      <td>499</td>\n",
              "      <td>102</td>\n",
              "      <td>54</td>\n",
              "      <td>98</td>\n",
              "      <td>167</td>\n",
              "      <td>53</td>\n",
              "      <td>10</td>\n",
              "      <td>217</td>\n",
              "      <td>31</td>\n",
              "      <td>24</td>\n",
              "      <td>174</td>\n",
              "      <td>228</td>\n",
              "      <td>692</td>\n",
              "      <td>223</td>\n",
              "      <td>72</td>\n",
              "      <td>0</td>\n",
              "      <td>31</td>\n",
              "      <td>187</td>\n",
              "      <td>198</td>\n",
              "    </tr>\n",
              "    <tr>\n",
              "      <th>14</th>\n",
              "      <td>568</td>\n",
              "      <td>86</td>\n",
              "      <td>43</td>\n",
              "      <td>69</td>\n",
              "      <td>123</td>\n",
              "      <td>54</td>\n",
              "      <td>6</td>\n",
              "      <td>150</td>\n",
              "      <td>46</td>\n",
              "      <td>19</td>\n",
              "      <td>144</td>\n",
              "      <td>174</td>\n",
              "      <td>325</td>\n",
              "      <td>177</td>\n",
              "      <td>87</td>\n",
              "      <td>3</td>\n",
              "      <td>7</td>\n",
              "      <td>180</td>\n",
              "      <td>182</td>\n",
              "    </tr>\n",
              "  </tbody>\n",
              "</table>\n",
              "</div>\n",
              "    <div class=\"colab-df-buttons\">\n",
              "\n",
              "  <div class=\"colab-df-container\">\n",
              "    <button class=\"colab-df-convert\" onclick=\"convertToInteractive('df-8ff42bd9-f978-4b34-a3ea-dafea9520a79')\"\n",
              "            title=\"Convert this dataframe to an interactive table.\"\n",
              "            style=\"display:none;\">\n",
              "\n",
              "  <svg xmlns=\"http://www.w3.org/2000/svg\" height=\"24px\" viewBox=\"0 -960 960 960\">\n",
              "    <path d=\"M120-120v-720h720v720H120Zm60-500h600v-160H180v160Zm220 220h160v-160H400v160Zm0 220h160v-160H400v160ZM180-400h160v-160H180v160Zm440 0h160v-160H620v160ZM180-180h160v-160H180v160Zm440 0h160v-160H620v160Z\"/>\n",
              "  </svg>\n",
              "    </button>\n",
              "\n",
              "  <style>\n",
              "    .colab-df-container {\n",
              "      display:flex;\n",
              "      gap: 12px;\n",
              "    }\n",
              "\n",
              "    .colab-df-convert {\n",
              "      background-color: #E8F0FE;\n",
              "      border: none;\n",
              "      border-radius: 50%;\n",
              "      cursor: pointer;\n",
              "      display: none;\n",
              "      fill: #1967D2;\n",
              "      height: 32px;\n",
              "      padding: 0 0 0 0;\n",
              "      width: 32px;\n",
              "    }\n",
              "\n",
              "    .colab-df-convert:hover {\n",
              "      background-color: #E2EBFA;\n",
              "      box-shadow: 0px 1px 2px rgba(60, 64, 67, 0.3), 0px 1px 3px 1px rgba(60, 64, 67, 0.15);\n",
              "      fill: #174EA6;\n",
              "    }\n",
              "\n",
              "    .colab-df-buttons div {\n",
              "      margin-bottom: 4px;\n",
              "    }\n",
              "\n",
              "    [theme=dark] .colab-df-convert {\n",
              "      background-color: #3B4455;\n",
              "      fill: #D2E3FC;\n",
              "    }\n",
              "\n",
              "    [theme=dark] .colab-df-convert:hover {\n",
              "      background-color: #434B5C;\n",
              "      box-shadow: 0px 1px 3px 1px rgba(0, 0, 0, 0.15);\n",
              "      filter: drop-shadow(0px 1px 2px rgba(0, 0, 0, 0.3));\n",
              "      fill: #FFFFFF;\n",
              "    }\n",
              "  </style>\n",
              "\n",
              "    <script>\n",
              "      const buttonEl =\n",
              "        document.querySelector('#df-8ff42bd9-f978-4b34-a3ea-dafea9520a79 button.colab-df-convert');\n",
              "      buttonEl.style.display =\n",
              "        google.colab.kernel.accessAllowed ? 'block' : 'none';\n",
              "\n",
              "      async function convertToInteractive(key) {\n",
              "        const element = document.querySelector('#df-8ff42bd9-f978-4b34-a3ea-dafea9520a79');\n",
              "        const dataTable =\n",
              "          await google.colab.kernel.invokeFunction('convertToInteractive',\n",
              "                                                    [key], {});\n",
              "        if (!dataTable) return;\n",
              "\n",
              "        const docLinkHtml = 'Like what you see? Visit the ' +\n",
              "          '<a target=\"_blank\" href=https://colab.research.google.com/notebooks/data_table.ipynb>data table notebook</a>'\n",
              "          + ' to learn more about interactive tables.';\n",
              "        element.innerHTML = '';\n",
              "        dataTable['output_type'] = 'display_data';\n",
              "        await google.colab.output.renderOutput(dataTable, element);\n",
              "        const docLink = document.createElement('div');\n",
              "        docLink.innerHTML = docLinkHtml;\n",
              "        element.appendChild(docLink);\n",
              "      }\n",
              "    </script>\n",
              "  </div>\n",
              "\n",
              "\n",
              "<div id=\"df-82d80b9b-ce55-4b57-817a-44a334879bcf\">\n",
              "  <button class=\"colab-df-quickchart\" onclick=\"quickchart('df-82d80b9b-ce55-4b57-817a-44a334879bcf')\"\n",
              "            title=\"Suggest charts.\"\n",
              "            style=\"display:none;\">\n",
              "\n",
              "<svg xmlns=\"http://www.w3.org/2000/svg\" height=\"24px\"viewBox=\"0 0 24 24\"\n",
              "     width=\"24px\">\n",
              "    <g>\n",
              "        <path d=\"M19 3H5c-1.1 0-2 .9-2 2v14c0 1.1.9 2 2 2h14c1.1 0 2-.9 2-2V5c0-1.1-.9-2-2-2zM9 17H7v-7h2v7zm4 0h-2V7h2v10zm4 0h-2v-4h2v4z\"/>\n",
              "    </g>\n",
              "</svg>\n",
              "  </button>\n",
              "\n",
              "<style>\n",
              "  .colab-df-quickchart {\n",
              "      --bg-color: #E8F0FE;\n",
              "      --fill-color: #1967D2;\n",
              "      --hover-bg-color: #E2EBFA;\n",
              "      --hover-fill-color: #174EA6;\n",
              "      --disabled-fill-color: #AAA;\n",
              "      --disabled-bg-color: #DDD;\n",
              "  }\n",
              "\n",
              "  [theme=dark] .colab-df-quickchart {\n",
              "      --bg-color: #3B4455;\n",
              "      --fill-color: #D2E3FC;\n",
              "      --hover-bg-color: #434B5C;\n",
              "      --hover-fill-color: #FFFFFF;\n",
              "      --disabled-bg-color: #3B4455;\n",
              "      --disabled-fill-color: #666;\n",
              "  }\n",
              "\n",
              "  .colab-df-quickchart {\n",
              "    background-color: var(--bg-color);\n",
              "    border: none;\n",
              "    border-radius: 50%;\n",
              "    cursor: pointer;\n",
              "    display: none;\n",
              "    fill: var(--fill-color);\n",
              "    height: 32px;\n",
              "    padding: 0;\n",
              "    width: 32px;\n",
              "  }\n",
              "\n",
              "  .colab-df-quickchart:hover {\n",
              "    background-color: var(--hover-bg-color);\n",
              "    box-shadow: 0 1px 2px rgba(60, 64, 67, 0.3), 0 1px 3px 1px rgba(60, 64, 67, 0.15);\n",
              "    fill: var(--button-hover-fill-color);\n",
              "  }\n",
              "\n",
              "  .colab-df-quickchart-complete:disabled,\n",
              "  .colab-df-quickchart-complete:disabled:hover {\n",
              "    background-color: var(--disabled-bg-color);\n",
              "    fill: var(--disabled-fill-color);\n",
              "    box-shadow: none;\n",
              "  }\n",
              "\n",
              "  .colab-df-spinner {\n",
              "    border: 2px solid var(--fill-color);\n",
              "    border-color: transparent;\n",
              "    border-bottom-color: var(--fill-color);\n",
              "    animation:\n",
              "      spin 1s steps(1) infinite;\n",
              "  }\n",
              "\n",
              "  @keyframes spin {\n",
              "    0% {\n",
              "      border-color: transparent;\n",
              "      border-bottom-color: var(--fill-color);\n",
              "      border-left-color: var(--fill-color);\n",
              "    }\n",
              "    20% {\n",
              "      border-color: transparent;\n",
              "      border-left-color: var(--fill-color);\n",
              "      border-top-color: var(--fill-color);\n",
              "    }\n",
              "    30% {\n",
              "      border-color: transparent;\n",
              "      border-left-color: var(--fill-color);\n",
              "      border-top-color: var(--fill-color);\n",
              "      border-right-color: var(--fill-color);\n",
              "    }\n",
              "    40% {\n",
              "      border-color: transparent;\n",
              "      border-right-color: var(--fill-color);\n",
              "      border-top-color: var(--fill-color);\n",
              "    }\n",
              "    60% {\n",
              "      border-color: transparent;\n",
              "      border-right-color: var(--fill-color);\n",
              "    }\n",
              "    80% {\n",
              "      border-color: transparent;\n",
              "      border-right-color: var(--fill-color);\n",
              "      border-bottom-color: var(--fill-color);\n",
              "    }\n",
              "    90% {\n",
              "      border-color: transparent;\n",
              "      border-bottom-color: var(--fill-color);\n",
              "    }\n",
              "  }\n",
              "</style>\n",
              "\n",
              "  <script>\n",
              "    async function quickchart(key) {\n",
              "      const quickchartButtonEl =\n",
              "        document.querySelector('#' + key + ' button');\n",
              "      quickchartButtonEl.disabled = true;  // To prevent multiple clicks.\n",
              "      quickchartButtonEl.classList.add('colab-df-spinner');\n",
              "      try {\n",
              "        const charts = await google.colab.kernel.invokeFunction(\n",
              "            'suggestCharts', [key], {});\n",
              "      } catch (error) {\n",
              "        console.error('Error during call to suggestCharts:', error);\n",
              "      }\n",
              "      quickchartButtonEl.classList.remove('colab-df-spinner');\n",
              "      quickchartButtonEl.classList.add('colab-df-quickchart-complete');\n",
              "    }\n",
              "    (() => {\n",
              "      let quickchartButtonEl =\n",
              "        document.querySelector('#df-82d80b9b-ce55-4b57-817a-44a334879bcf button');\n",
              "      quickchartButtonEl.style.display =\n",
              "        google.colab.kernel.accessAllowed ? 'block' : 'none';\n",
              "    })();\n",
              "  </script>\n",
              "</div>\n",
              "    </div>\n",
              "  </div>\n"
            ]
          },
          "metadata": {},
          "execution_count": 3
        }
      ],
      "source": [
        "X_train_pd = pd.DataFrame(X_train)\n",
        "\n",
        "# First 15 rows of our dataset.\n",
        "X_train_pd.head(15)"
      ]
    },
    {
      "cell_type": "markdown",
      "metadata": {
        "nbgrader": {
          "grade": false,
          "grade_id": "cell-98e7d91d77d65fcf",
          "locked": true,
          "schema_version": 2,
          "solution": false
        },
        "id": "w5zpzmjZqtm6"
      },
      "source": [
        "Methods `describe` and `info` deliver some useful information."
      ]
    },
    {
      "cell_type": "code",
      "execution_count": null,
      "metadata": {
        "id": "QrGNbudVqtm7",
        "outputId": "c8fbc4bc-a169-4bed-f7d5-db13bc77892b",
        "colab": {
          "base_uri": "https://localhost:8080/",
          "height": 320
        }
      },
      "outputs": [
        {
          "output_type": "execute_result",
          "data": {
            "text/plain": [
              "               0           1           2           3           4           5   \\\n",
              "count  549.000000  549.000000  549.000000  549.000000  549.000000  549.000000   \n",
              "mean   423.437158   93.655738   44.772313   82.187614  167.723133   61.214936   \n",
              "std    247.571235    8.231807    6.093634   15.291670   32.104298    7.530066   \n",
              "min      0.000000   73.000000   34.000000   44.000000  110.000000   47.000000   \n",
              "25%    206.000000   87.000000   40.000000   70.000000  141.000000   57.000000   \n",
              "50%    409.000000   92.000000   44.000000   80.000000  166.000000   61.000000   \n",
              "75%    639.000000  100.000000   49.000000   98.000000  192.000000   64.000000   \n",
              "max    845.000000  119.000000   59.000000  110.000000  322.000000  133.000000   \n",
              "\n",
              "               6           7           8           9           10          11  \\\n",
              "count  549.000000  549.000000  549.000000  549.000000  549.000000  549.000000   \n",
              "mean     8.448087  168.863388   40.861566   20.579235  147.816029  188.854281   \n",
              "std      4.481872   32.771125    7.596998    2.554445   14.308541   30.597706   \n",
              "min      2.000000  114.000000   26.000000   17.000000  118.000000  132.000000   \n",
              "25%      7.000000  147.000000   33.000000   19.000000  136.000000  168.000000   \n",
              "50%      8.000000  157.000000   43.000000   20.000000  146.000000  178.000000   \n",
              "75%     10.000000  197.000000   46.000000   23.000000  159.000000  217.000000   \n",
              "max     55.000000  262.000000   59.000000   28.000000  186.000000  288.000000   \n",
              "\n",
              "               12          13          14          15          16          17  \\\n",
              "count  549.000000  549.000000  549.000000  549.000000  549.000000  549.000000   \n",
              "mean   439.571949  174.389800   72.413479    6.417122   12.744991  189.001821   \n",
              "std    174.946887   31.976285    7.362999    4.948914    8.919991    6.128341   \n",
              "min    192.000000  112.000000   59.000000    0.000000    0.000000  176.000000   \n",
              "25%    320.000000  149.000000   67.000000    2.000000    6.000000  185.000000   \n",
              "50%    363.000000  173.000000   72.000000    6.000000   11.000000  188.000000   \n",
              "75%    583.000000  196.000000   76.000000    9.000000   19.000000  193.000000   \n",
              "max    998.000000  268.000000  127.000000   22.000000   41.000000  206.000000   \n",
              "\n",
              "               18  \n",
              "count  549.000000  \n",
              "mean   195.546448  \n",
              "std      7.510827  \n",
              "min    181.000000  \n",
              "25%    190.000000  \n",
              "50%    196.000000  \n",
              "75%    201.000000  \n",
              "max    211.000000  "
            ],
            "text/html": [
              "\n",
              "  <div id=\"df-ffcc3914-b678-486b-a298-6240c221ae6f\" class=\"colab-df-container\">\n",
              "    <div>\n",
              "<style scoped>\n",
              "    .dataframe tbody tr th:only-of-type {\n",
              "        vertical-align: middle;\n",
              "    }\n",
              "\n",
              "    .dataframe tbody tr th {\n",
              "        vertical-align: top;\n",
              "    }\n",
              "\n",
              "    .dataframe thead th {\n",
              "        text-align: right;\n",
              "    }\n",
              "</style>\n",
              "<table border=\"1\" class=\"dataframe\">\n",
              "  <thead>\n",
              "    <tr style=\"text-align: right;\">\n",
              "      <th></th>\n",
              "      <th>0</th>\n",
              "      <th>1</th>\n",
              "      <th>2</th>\n",
              "      <th>3</th>\n",
              "      <th>4</th>\n",
              "      <th>5</th>\n",
              "      <th>6</th>\n",
              "      <th>7</th>\n",
              "      <th>8</th>\n",
              "      <th>9</th>\n",
              "      <th>10</th>\n",
              "      <th>11</th>\n",
              "      <th>12</th>\n",
              "      <th>13</th>\n",
              "      <th>14</th>\n",
              "      <th>15</th>\n",
              "      <th>16</th>\n",
              "      <th>17</th>\n",
              "      <th>18</th>\n",
              "    </tr>\n",
              "  </thead>\n",
              "  <tbody>\n",
              "    <tr>\n",
              "      <th>count</th>\n",
              "      <td>549.000000</td>\n",
              "      <td>549.000000</td>\n",
              "      <td>549.000000</td>\n",
              "      <td>549.000000</td>\n",
              "      <td>549.000000</td>\n",
              "      <td>549.000000</td>\n",
              "      <td>549.000000</td>\n",
              "      <td>549.000000</td>\n",
              "      <td>549.000000</td>\n",
              "      <td>549.000000</td>\n",
              "      <td>549.000000</td>\n",
              "      <td>549.000000</td>\n",
              "      <td>549.000000</td>\n",
              "      <td>549.000000</td>\n",
              "      <td>549.000000</td>\n",
              "      <td>549.000000</td>\n",
              "      <td>549.000000</td>\n",
              "      <td>549.000000</td>\n",
              "      <td>549.000000</td>\n",
              "    </tr>\n",
              "    <tr>\n",
              "      <th>mean</th>\n",
              "      <td>423.437158</td>\n",
              "      <td>93.655738</td>\n",
              "      <td>44.772313</td>\n",
              "      <td>82.187614</td>\n",
              "      <td>167.723133</td>\n",
              "      <td>61.214936</td>\n",
              "      <td>8.448087</td>\n",
              "      <td>168.863388</td>\n",
              "      <td>40.861566</td>\n",
              "      <td>20.579235</td>\n",
              "      <td>147.816029</td>\n",
              "      <td>188.854281</td>\n",
              "      <td>439.571949</td>\n",
              "      <td>174.389800</td>\n",
              "      <td>72.413479</td>\n",
              "      <td>6.417122</td>\n",
              "      <td>12.744991</td>\n",
              "      <td>189.001821</td>\n",
              "      <td>195.546448</td>\n",
              "    </tr>\n",
              "    <tr>\n",
              "      <th>std</th>\n",
              "      <td>247.571235</td>\n",
              "      <td>8.231807</td>\n",
              "      <td>6.093634</td>\n",
              "      <td>15.291670</td>\n",
              "      <td>32.104298</td>\n",
              "      <td>7.530066</td>\n",
              "      <td>4.481872</td>\n",
              "      <td>32.771125</td>\n",
              "      <td>7.596998</td>\n",
              "      <td>2.554445</td>\n",
              "      <td>14.308541</td>\n",
              "      <td>30.597706</td>\n",
              "      <td>174.946887</td>\n",
              "      <td>31.976285</td>\n",
              "      <td>7.362999</td>\n",
              "      <td>4.948914</td>\n",
              "      <td>8.919991</td>\n",
              "      <td>6.128341</td>\n",
              "      <td>7.510827</td>\n",
              "    </tr>\n",
              "    <tr>\n",
              "      <th>min</th>\n",
              "      <td>0.000000</td>\n",
              "      <td>73.000000</td>\n",
              "      <td>34.000000</td>\n",
              "      <td>44.000000</td>\n",
              "      <td>110.000000</td>\n",
              "      <td>47.000000</td>\n",
              "      <td>2.000000</td>\n",
              "      <td>114.000000</td>\n",
              "      <td>26.000000</td>\n",
              "      <td>17.000000</td>\n",
              "      <td>118.000000</td>\n",
              "      <td>132.000000</td>\n",
              "      <td>192.000000</td>\n",
              "      <td>112.000000</td>\n",
              "      <td>59.000000</td>\n",
              "      <td>0.000000</td>\n",
              "      <td>0.000000</td>\n",
              "      <td>176.000000</td>\n",
              "      <td>181.000000</td>\n",
              "    </tr>\n",
              "    <tr>\n",
              "      <th>25%</th>\n",
              "      <td>206.000000</td>\n",
              "      <td>87.000000</td>\n",
              "      <td>40.000000</td>\n",
              "      <td>70.000000</td>\n",
              "      <td>141.000000</td>\n",
              "      <td>57.000000</td>\n",
              "      <td>7.000000</td>\n",
              "      <td>147.000000</td>\n",
              "      <td>33.000000</td>\n",
              "      <td>19.000000</td>\n",
              "      <td>136.000000</td>\n",
              "      <td>168.000000</td>\n",
              "      <td>320.000000</td>\n",
              "      <td>149.000000</td>\n",
              "      <td>67.000000</td>\n",
              "      <td>2.000000</td>\n",
              "      <td>6.000000</td>\n",
              "      <td>185.000000</td>\n",
              "      <td>190.000000</td>\n",
              "    </tr>\n",
              "    <tr>\n",
              "      <th>50%</th>\n",
              "      <td>409.000000</td>\n",
              "      <td>92.000000</td>\n",
              "      <td>44.000000</td>\n",
              "      <td>80.000000</td>\n",
              "      <td>166.000000</td>\n",
              "      <td>61.000000</td>\n",
              "      <td>8.000000</td>\n",
              "      <td>157.000000</td>\n",
              "      <td>43.000000</td>\n",
              "      <td>20.000000</td>\n",
              "      <td>146.000000</td>\n",
              "      <td>178.000000</td>\n",
              "      <td>363.000000</td>\n",
              "      <td>173.000000</td>\n",
              "      <td>72.000000</td>\n",
              "      <td>6.000000</td>\n",
              "      <td>11.000000</td>\n",
              "      <td>188.000000</td>\n",
              "      <td>196.000000</td>\n",
              "    </tr>\n",
              "    <tr>\n",
              "      <th>75%</th>\n",
              "      <td>639.000000</td>\n",
              "      <td>100.000000</td>\n",
              "      <td>49.000000</td>\n",
              "      <td>98.000000</td>\n",
              "      <td>192.000000</td>\n",
              "      <td>64.000000</td>\n",
              "      <td>10.000000</td>\n",
              "      <td>197.000000</td>\n",
              "      <td>46.000000</td>\n",
              "      <td>23.000000</td>\n",
              "      <td>159.000000</td>\n",
              "      <td>217.000000</td>\n",
              "      <td>583.000000</td>\n",
              "      <td>196.000000</td>\n",
              "      <td>76.000000</td>\n",
              "      <td>9.000000</td>\n",
              "      <td>19.000000</td>\n",
              "      <td>193.000000</td>\n",
              "      <td>201.000000</td>\n",
              "    </tr>\n",
              "    <tr>\n",
              "      <th>max</th>\n",
              "      <td>845.000000</td>\n",
              "      <td>119.000000</td>\n",
              "      <td>59.000000</td>\n",
              "      <td>110.000000</td>\n",
              "      <td>322.000000</td>\n",
              "      <td>133.000000</td>\n",
              "      <td>55.000000</td>\n",
              "      <td>262.000000</td>\n",
              "      <td>59.000000</td>\n",
              "      <td>28.000000</td>\n",
              "      <td>186.000000</td>\n",
              "      <td>288.000000</td>\n",
              "      <td>998.000000</td>\n",
              "      <td>268.000000</td>\n",
              "      <td>127.000000</td>\n",
              "      <td>22.000000</td>\n",
              "      <td>41.000000</td>\n",
              "      <td>206.000000</td>\n",
              "      <td>211.000000</td>\n",
              "    </tr>\n",
              "  </tbody>\n",
              "</table>\n",
              "</div>\n",
              "    <div class=\"colab-df-buttons\">\n",
              "\n",
              "  <div class=\"colab-df-container\">\n",
              "    <button class=\"colab-df-convert\" onclick=\"convertToInteractive('df-ffcc3914-b678-486b-a298-6240c221ae6f')\"\n",
              "            title=\"Convert this dataframe to an interactive table.\"\n",
              "            style=\"display:none;\">\n",
              "\n",
              "  <svg xmlns=\"http://www.w3.org/2000/svg\" height=\"24px\" viewBox=\"0 -960 960 960\">\n",
              "    <path d=\"M120-120v-720h720v720H120Zm60-500h600v-160H180v160Zm220 220h160v-160H400v160Zm0 220h160v-160H400v160ZM180-400h160v-160H180v160Zm440 0h160v-160H620v160ZM180-180h160v-160H180v160Zm440 0h160v-160H620v160Z\"/>\n",
              "  </svg>\n",
              "    </button>\n",
              "\n",
              "  <style>\n",
              "    .colab-df-container {\n",
              "      display:flex;\n",
              "      gap: 12px;\n",
              "    }\n",
              "\n",
              "    .colab-df-convert {\n",
              "      background-color: #E8F0FE;\n",
              "      border: none;\n",
              "      border-radius: 50%;\n",
              "      cursor: pointer;\n",
              "      display: none;\n",
              "      fill: #1967D2;\n",
              "      height: 32px;\n",
              "      padding: 0 0 0 0;\n",
              "      width: 32px;\n",
              "    }\n",
              "\n",
              "    .colab-df-convert:hover {\n",
              "      background-color: #E2EBFA;\n",
              "      box-shadow: 0px 1px 2px rgba(60, 64, 67, 0.3), 0px 1px 3px 1px rgba(60, 64, 67, 0.15);\n",
              "      fill: #174EA6;\n",
              "    }\n",
              "\n",
              "    .colab-df-buttons div {\n",
              "      margin-bottom: 4px;\n",
              "    }\n",
              "\n",
              "    [theme=dark] .colab-df-convert {\n",
              "      background-color: #3B4455;\n",
              "      fill: #D2E3FC;\n",
              "    }\n",
              "\n",
              "    [theme=dark] .colab-df-convert:hover {\n",
              "      background-color: #434B5C;\n",
              "      box-shadow: 0px 1px 3px 1px rgba(0, 0, 0, 0.15);\n",
              "      filter: drop-shadow(0px 1px 2px rgba(0, 0, 0, 0.3));\n",
              "      fill: #FFFFFF;\n",
              "    }\n",
              "  </style>\n",
              "\n",
              "    <script>\n",
              "      const buttonEl =\n",
              "        document.querySelector('#df-ffcc3914-b678-486b-a298-6240c221ae6f button.colab-df-convert');\n",
              "      buttonEl.style.display =\n",
              "        google.colab.kernel.accessAllowed ? 'block' : 'none';\n",
              "\n",
              "      async function convertToInteractive(key) {\n",
              "        const element = document.querySelector('#df-ffcc3914-b678-486b-a298-6240c221ae6f');\n",
              "        const dataTable =\n",
              "          await google.colab.kernel.invokeFunction('convertToInteractive',\n",
              "                                                    [key], {});\n",
              "        if (!dataTable) return;\n",
              "\n",
              "        const docLinkHtml = 'Like what you see? Visit the ' +\n",
              "          '<a target=\"_blank\" href=https://colab.research.google.com/notebooks/data_table.ipynb>data table notebook</a>'\n",
              "          + ' to learn more about interactive tables.';\n",
              "        element.innerHTML = '';\n",
              "        dataTable['output_type'] = 'display_data';\n",
              "        await google.colab.output.renderOutput(dataTable, element);\n",
              "        const docLink = document.createElement('div');\n",
              "        docLink.innerHTML = docLinkHtml;\n",
              "        element.appendChild(docLink);\n",
              "      }\n",
              "    </script>\n",
              "  </div>\n",
              "\n",
              "\n",
              "<div id=\"df-61fb1391-4cad-4939-a58d-d19a197e1b91\">\n",
              "  <button class=\"colab-df-quickchart\" onclick=\"quickchart('df-61fb1391-4cad-4939-a58d-d19a197e1b91')\"\n",
              "            title=\"Suggest charts.\"\n",
              "            style=\"display:none;\">\n",
              "\n",
              "<svg xmlns=\"http://www.w3.org/2000/svg\" height=\"24px\"viewBox=\"0 0 24 24\"\n",
              "     width=\"24px\">\n",
              "    <g>\n",
              "        <path d=\"M19 3H5c-1.1 0-2 .9-2 2v14c0 1.1.9 2 2 2h14c1.1 0 2-.9 2-2V5c0-1.1-.9-2-2-2zM9 17H7v-7h2v7zm4 0h-2V7h2v10zm4 0h-2v-4h2v4z\"/>\n",
              "    </g>\n",
              "</svg>\n",
              "  </button>\n",
              "\n",
              "<style>\n",
              "  .colab-df-quickchart {\n",
              "      --bg-color: #E8F0FE;\n",
              "      --fill-color: #1967D2;\n",
              "      --hover-bg-color: #E2EBFA;\n",
              "      --hover-fill-color: #174EA6;\n",
              "      --disabled-fill-color: #AAA;\n",
              "      --disabled-bg-color: #DDD;\n",
              "  }\n",
              "\n",
              "  [theme=dark] .colab-df-quickchart {\n",
              "      --bg-color: #3B4455;\n",
              "      --fill-color: #D2E3FC;\n",
              "      --hover-bg-color: #434B5C;\n",
              "      --hover-fill-color: #FFFFFF;\n",
              "      --disabled-bg-color: #3B4455;\n",
              "      --disabled-fill-color: #666;\n",
              "  }\n",
              "\n",
              "  .colab-df-quickchart {\n",
              "    background-color: var(--bg-color);\n",
              "    border: none;\n",
              "    border-radius: 50%;\n",
              "    cursor: pointer;\n",
              "    display: none;\n",
              "    fill: var(--fill-color);\n",
              "    height: 32px;\n",
              "    padding: 0;\n",
              "    width: 32px;\n",
              "  }\n",
              "\n",
              "  .colab-df-quickchart:hover {\n",
              "    background-color: var(--hover-bg-color);\n",
              "    box-shadow: 0 1px 2px rgba(60, 64, 67, 0.3), 0 1px 3px 1px rgba(60, 64, 67, 0.15);\n",
              "    fill: var(--button-hover-fill-color);\n",
              "  }\n",
              "\n",
              "  .colab-df-quickchart-complete:disabled,\n",
              "  .colab-df-quickchart-complete:disabled:hover {\n",
              "    background-color: var(--disabled-bg-color);\n",
              "    fill: var(--disabled-fill-color);\n",
              "    box-shadow: none;\n",
              "  }\n",
              "\n",
              "  .colab-df-spinner {\n",
              "    border: 2px solid var(--fill-color);\n",
              "    border-color: transparent;\n",
              "    border-bottom-color: var(--fill-color);\n",
              "    animation:\n",
              "      spin 1s steps(1) infinite;\n",
              "  }\n",
              "\n",
              "  @keyframes spin {\n",
              "    0% {\n",
              "      border-color: transparent;\n",
              "      border-bottom-color: var(--fill-color);\n",
              "      border-left-color: var(--fill-color);\n",
              "    }\n",
              "    20% {\n",
              "      border-color: transparent;\n",
              "      border-left-color: var(--fill-color);\n",
              "      border-top-color: var(--fill-color);\n",
              "    }\n",
              "    30% {\n",
              "      border-color: transparent;\n",
              "      border-left-color: var(--fill-color);\n",
              "      border-top-color: var(--fill-color);\n",
              "      border-right-color: var(--fill-color);\n",
              "    }\n",
              "    40% {\n",
              "      border-color: transparent;\n",
              "      border-right-color: var(--fill-color);\n",
              "      border-top-color: var(--fill-color);\n",
              "    }\n",
              "    60% {\n",
              "      border-color: transparent;\n",
              "      border-right-color: var(--fill-color);\n",
              "    }\n",
              "    80% {\n",
              "      border-color: transparent;\n",
              "      border-right-color: var(--fill-color);\n",
              "      border-bottom-color: var(--fill-color);\n",
              "    }\n",
              "    90% {\n",
              "      border-color: transparent;\n",
              "      border-bottom-color: var(--fill-color);\n",
              "    }\n",
              "  }\n",
              "</style>\n",
              "\n",
              "  <script>\n",
              "    async function quickchart(key) {\n",
              "      const quickchartButtonEl =\n",
              "        document.querySelector('#' + key + ' button');\n",
              "      quickchartButtonEl.disabled = true;  // To prevent multiple clicks.\n",
              "      quickchartButtonEl.classList.add('colab-df-spinner');\n",
              "      try {\n",
              "        const charts = await google.colab.kernel.invokeFunction(\n",
              "            'suggestCharts', [key], {});\n",
              "      } catch (error) {\n",
              "        console.error('Error during call to suggestCharts:', error);\n",
              "      }\n",
              "      quickchartButtonEl.classList.remove('colab-df-spinner');\n",
              "      quickchartButtonEl.classList.add('colab-df-quickchart-complete');\n",
              "    }\n",
              "    (() => {\n",
              "      let quickchartButtonEl =\n",
              "        document.querySelector('#df-61fb1391-4cad-4939-a58d-d19a197e1b91 button');\n",
              "      quickchartButtonEl.style.display =\n",
              "        google.colab.kernel.accessAllowed ? 'block' : 'none';\n",
              "    })();\n",
              "  </script>\n",
              "</div>\n",
              "    </div>\n",
              "  </div>\n"
            ]
          },
          "metadata": {},
          "execution_count": 4
        }
      ],
      "source": [
        "X_train_pd.describe()"
      ]
    },
    {
      "cell_type": "code",
      "execution_count": null,
      "metadata": {
        "id": "CS69BxF5qtm8",
        "outputId": "40e8e2e1-5329-4228-f59c-516dd0298886",
        "colab": {
          "base_uri": "https://localhost:8080/"
        }
      },
      "outputs": [
        {
          "output_type": "stream",
          "name": "stdout",
          "text": [
            "<class 'pandas.core.frame.DataFrame'>\n",
            "RangeIndex: 549 entries, 0 to 548\n",
            "Data columns (total 19 columns):\n",
            " #   Column  Non-Null Count  Dtype\n",
            "---  ------  --------------  -----\n",
            " 0   0       549 non-null    int64\n",
            " 1   1       549 non-null    int64\n",
            " 2   2       549 non-null    int64\n",
            " 3   3       549 non-null    int64\n",
            " 4   4       549 non-null    int64\n",
            " 5   5       549 non-null    int64\n",
            " 6   6       549 non-null    int64\n",
            " 7   7       549 non-null    int64\n",
            " 8   8       549 non-null    int64\n",
            " 9   9       549 non-null    int64\n",
            " 10  10      549 non-null    int64\n",
            " 11  11      549 non-null    int64\n",
            " 12  12      549 non-null    int64\n",
            " 13  13      549 non-null    int64\n",
            " 14  14      549 non-null    int64\n",
            " 15  15      549 non-null    int64\n",
            " 16  16      549 non-null    int64\n",
            " 17  17      549 non-null    int64\n",
            " 18  18      549 non-null    int64\n",
            "dtypes: int64(19)\n",
            "memory usage: 81.6 KB\n"
          ]
        }
      ],
      "source": [
        "X_train_pd.info()"
      ]
    },
    {
      "cell_type": "markdown",
      "metadata": {
        "nbgrader": {
          "grade": false,
          "grade_id": "cell-be844269be69c387",
          "locked": true,
          "schema_version": 2,
          "solution": false
        },
        "id": "10sksae3qtm8"
      },
      "source": [
        "### 2. Machine Learning pipeline\n",
        "Here you are supposed to perform the desired transformations. Please, explain your results briefly after each task."
      ]
    },
    {
      "cell_type": "markdown",
      "metadata": {
        "id": "X3y9jJcYqtm9"
      },
      "source": [
        "#### 2.0. Data preprocessing\n",
        "* Make some transformations of the dataset (if necessary). Briefly explain the transformations"
      ]
    },
    {
      "cell_type": "markdown",
      "source": [
        "Normalization is needed for some methods below"
      ],
      "metadata": {
        "id": "ANmy7nYIZcre"
      }
    },
    {
      "cell_type": "code",
      "execution_count": null,
      "metadata": {
        "nbgrader": {
          "grade": true,
          "grade_id": "cell-a1514aa189a49fca",
          "locked": false,
          "points": 15,
          "schema_version": 2,
          "solution": true
        },
        "id": "cX1i48OAqtm9"
      },
      "outputs": [],
      "source": [
        "# in linear methods we need to standartize the data to prevent an overwhelming impact\n",
        "# of data with big values\n",
        "from sklearn.preprocessing import StandardScaler\n",
        "\n",
        "model_preprocessing = StandardScaler()\n",
        "X_train_transform = model_preprocessing.fit_transform(X_train)\n",
        "X_test_transform = model_preprocessing.fit_transform(X_test)\n",
        "\n",
        "\n",
        "\n",
        "### YOUR CODE HERE"
      ]
    },
    {
      "cell_type": "markdown",
      "metadata": {
        "id": "9_O4r_wtqtm9"
      },
      "source": [
        "#### 2.1. Basic logistic regression\n",
        "* Find optimal hyperparameters for logistic regression with cross-validation on the `train` data (small grid/random search is enough, no need to find the *best* parameters).\n",
        "\n",
        "* Estimate the model quality with `f1` and `accuracy` scores.\n",
        "* Plot a ROC-curve for the trained model. For the multiclass case you might use `scikitplot` library (e.g. `scikitplot.metrics.plot_roc(test_labels, predicted_proba)`).\n",
        "\n",
        "*Note: please, use the following hyperparameters for logistic regression: `multi_class='multinomial'`, `solver='saga'` `tol=1e-3` and ` max_iter=500`.*"
      ]
    },
    {
      "cell_type": "code",
      "execution_count": null,
      "metadata": {
        "nbgrader": {
          "grade": true,
          "grade_id": "cell-1dd5ad5d0845cbbb",
          "locked": false,
          "points": 5,
          "schema_version": 2,
          "solution": true
        },
        "id": "AM5xfP6Iqtm-",
        "outputId": "dfc565e8-d899-4bba-c586-9f6245b4ea37",
        "colab": {
          "base_uri": "https://localhost:8080/"
        }
      },
      "outputs": [
        {
          "output_type": "stream",
          "name": "stdout",
          "text": [
            "Collecting scikit-plot\n",
            "  Downloading scikit_plot-0.3.7-py3-none-any.whl (33 kB)\n",
            "Requirement already satisfied: matplotlib>=1.4.0 in /usr/local/lib/python3.10/dist-packages (from scikit-plot) (3.7.1)\n",
            "Requirement already satisfied: scikit-learn>=0.18 in /usr/local/lib/python3.10/dist-packages (from scikit-plot) (1.2.2)\n",
            "Requirement already satisfied: scipy>=0.9 in /usr/local/lib/python3.10/dist-packages (from scikit-plot) (1.11.3)\n",
            "Requirement already satisfied: joblib>=0.10 in /usr/local/lib/python3.10/dist-packages (from scikit-plot) (1.3.2)\n",
            "Requirement already satisfied: contourpy>=1.0.1 in /usr/local/lib/python3.10/dist-packages (from matplotlib>=1.4.0->scikit-plot) (1.1.1)\n",
            "Requirement already satisfied: cycler>=0.10 in /usr/local/lib/python3.10/dist-packages (from matplotlib>=1.4.0->scikit-plot) (0.12.1)\n",
            "Requirement already satisfied: fonttools>=4.22.0 in /usr/local/lib/python3.10/dist-packages (from matplotlib>=1.4.0->scikit-plot) (4.43.1)\n",
            "Requirement already satisfied: kiwisolver>=1.0.1 in /usr/local/lib/python3.10/dist-packages (from matplotlib>=1.4.0->scikit-plot) (1.4.5)\n",
            "Requirement already satisfied: numpy>=1.20 in /usr/local/lib/python3.10/dist-packages (from matplotlib>=1.4.0->scikit-plot) (1.23.5)\n",
            "Requirement already satisfied: packaging>=20.0 in /usr/local/lib/python3.10/dist-packages (from matplotlib>=1.4.0->scikit-plot) (23.2)\n",
            "Requirement already satisfied: pillow>=6.2.0 in /usr/local/lib/python3.10/dist-packages (from matplotlib>=1.4.0->scikit-plot) (9.4.0)\n",
            "Requirement already satisfied: pyparsing>=2.3.1 in /usr/local/lib/python3.10/dist-packages (from matplotlib>=1.4.0->scikit-plot) (3.1.1)\n",
            "Requirement already satisfied: python-dateutil>=2.7 in /usr/local/lib/python3.10/dist-packages (from matplotlib>=1.4.0->scikit-plot) (2.8.2)\n",
            "Requirement already satisfied: threadpoolctl>=2.0.0 in /usr/local/lib/python3.10/dist-packages (from scikit-learn>=0.18->scikit-plot) (3.2.0)\n",
            "Requirement already satisfied: six>=1.5 in /usr/local/lib/python3.10/dist-packages (from python-dateutil>=2.7->matplotlib>=1.4.0->scikit-plot) (1.16.0)\n",
            "Installing collected packages: scikit-plot\n",
            "Successfully installed scikit-plot-0.3.7\n"
          ]
        }
      ],
      "source": [
        "### YOUR CODE HERE\n",
        "! pip install scikit-plot\n",
        "\n",
        "from sklearn.linear_model import LogisticRegression\n",
        "from scikitplot.metrics import plot_roc\n",
        "import matplotlib.pyplot as plt\n",
        "from sklearn.pipeline import Pipeline\n",
        "\n",
        "from sklearn.model_selection import GridSearchCV\n",
        "\n",
        "logistic_regression = LogisticRegression(multi_class='multinomial', solver='saga', tol=1e-3, max_iter=500)\n",
        "grid = {\n",
        "'C': [0.01, 0.05, 0.1, 0.5, 1, 2, 5, 10],\n",
        "}\n",
        "\n",
        "lr_grid_search = GridSearchCV(logistic_regression, param_grid=grid, n_jobs=-1, cv=5)\n",
        "lr_grid_search.fit(X_train_transform, y_train)\n",
        "model_lr = lr_grid_search.best_estimator_\n",
        "\n"
      ]
    },
    {
      "cell_type": "code",
      "source": [
        "from sklearn.metrics import accuracy_score, f1_score\n",
        "print('f1 score:', f1_score(y_test, model_lr.predict(X_test_transform), average='weighted'))\n",
        "print('accuracy:', accuracy_score(y_test, model_lr.predict(X_test_transform)))"
      ],
      "metadata": {
        "id": "MjRXNJ81j-qA",
        "outputId": "5a7a6aae-61f4-489a-c2e0-4c778cc61b80",
        "colab": {
          "base_uri": "https://localhost:8080/"
        }
      },
      "execution_count": null,
      "outputs": [
        {
          "output_type": "stream",
          "name": "stdout",
          "text": [
            "f1 score: 0.7634746265498229\n",
            "accuracy: 0.7643097643097643\n"
          ]
        }
      ]
    },
    {
      "cell_type": "code",
      "execution_count": null,
      "metadata": {
        "id": "VtDV1hO_qtm-",
        "outputId": "9c4213cb-f281-4c8e-ed71-87c62db0d19a",
        "colab": {
          "base_uri": "https://localhost:8080/",
          "height": 490
        }
      },
      "outputs": [
        {
          "output_type": "execute_result",
          "data": {
            "text/plain": [
              "<Axes: title={'center': 'ROC Curves'}, xlabel='False Positive Rate', ylabel='True Positive Rate'>"
            ]
          },
          "metadata": {},
          "execution_count": 9
        },
        {
          "output_type": "display_data",
          "data": {
            "text/plain": [
              "<Figure size 640x480 with 1 Axes>"
            ],
            "image/png": "[encoded data removed]"
          },
          "metadata": {}
        }
      ],
      "source": [
        "from scikitplot.metrics import plot_roc\n",
        "\n",
        "plot_roc(y_test, model_lr.predict_proba(X_test_transform))\n",
        "\n"
      ]
    },
    {
      "cell_type": "markdown",
      "metadata": {
        "id": "eeh5ls4fqtm-"
      },
      "source": [
        "#### 2.2. PCA: explained variance plot\n",
        "* Apply the PCA to the train part of the data. Build the explaided variance plot."
      ]
    },
    {
      "cell_type": "code",
      "execution_count": null,
      "metadata": {
        "nbgrader": {
          "grade": true,
          "grade_id": "cell-c6c614740bce090e",
          "locked": false,
          "points": 10,
          "schema_version": 2,
          "solution": true
        },
        "id": "CYd-7ifZqtm_",
        "outputId": "8e810279-b3c8-4686-e237-ec76b5d4a8af",
        "colab": {
          "base_uri": "https://localhost:8080/",
          "height": 430
        }
      },
      "outputs": [
        {
          "output_type": "display_data",
          "data": {
            "text/plain": [
              "<Figure size 640x480 with 1 Axes>"
            ],
            "image/png": "[encoded data removed]"
          },
          "metadata": {}
        }
      ],
      "source": [
        "### YOUR CODE HERE\n",
        "from sklearn.decomposition import PCA\n",
        "\n",
        "pca = PCA()\n",
        "pca.fit(X_train_transform)\n",
        "exp_var_cumul = np.cumsum(pca.explained_variance_ratio_)\n",
        "plt.plot(range(1, exp_var_cumul.shape[0] + 1), exp_var_cumul )\n",
        "plt.show()"
      ]
    },
    {
      "cell_type": "markdown",
      "source": [
        "As we can see already 11 components precisely describe our matrix\n"
      ],
      "metadata": {
        "id": "Xk-wxYr5ufTu"
      }
    },
    {
      "cell_type": "markdown",
      "metadata": {
        "nbgrader": {
          "grade": false,
          "grade_id": "cell-0c1fe666f52fe53c",
          "locked": true,
          "schema_version": 2,
          "solution": false
        },
        "id": "bpFOX9Kuqtm_"
      },
      "source": [
        "#### 2.3. PCA trasformation\n",
        "* Select the appropriate number of components. Briefly explain your choice. Should you normalize the data?\n",
        "\n",
        "*Use `fit` and `transform` methods to transform the `train` and `test` parts.*"
      ]
    },
    {
      "cell_type": "code",
      "execution_count": null,
      "metadata": {
        "nbgrader": {
          "grade": true,
          "grade_id": "cell-96ab18d96473ef71",
          "locked": false,
          "points": 5,
          "schema_version": 2,
          "solution": true
        },
        "id": "LI-Ukg7Gqtm_"
      },
      "outputs": [],
      "source": [
        "### YOUR CODE HERE\n",
        "pca = PCA(n_components=11)\n",
        "pca.fit(X_train_transform)\n",
        "X_train_pca = pca.transform(X_train)\n",
        "X_test_pca = pca.transform(X_test)"
      ]
    },
    {
      "cell_type": "code",
      "source": [
        "X_test_pca.shape\n"
      ],
      "metadata": {
        "id": "UzTiEcFTx-iP",
        "outputId": "04a5b9d4-d89c-42d1-f509-e4e8a2f92a23",
        "colab": {
          "base_uri": "https://localhost:8080/"
        }
      },
      "execution_count": null,
      "outputs": [
        {
          "output_type": "execute_result",
          "data": {
            "text/plain": [
              "(297, 11)"
            ]
          },
          "metadata": {},
          "execution_count": 15
        }
      ]
    },
    {
      "cell_type": "markdown",
      "metadata": {
        "id": "ORBipBrlqtnA"
      },
      "source": [
        "**Note: From this point `sklearn` [Pipeline](https://scikit-learn.org/stable/modules/compose.html) might be useful to perform transformations on the data. Refer to the [docs](https://scikit-learn.org/stable/modules/generated/sklearn.pipeline.Pipeline.html) for more information.**"
      ]
    },
    {
      "cell_type": "markdown",
      "metadata": {
        "nbgrader": {
          "grade": false,
          "grade_id": "cell-d28b58a35c94e988",
          "locked": true,
          "schema_version": 2,
          "solution": false
        },
        "id": "06banUL8qtnA"
      },
      "source": [
        "#### 2.4. Logistic regression on PCA-preprocessed data.\n",
        "* Find optimal hyperparameters for logistic regression with cross-validation on the transformed by PCA `train` data.\n",
        "\n",
        "* Estimate the model quality with `f1` and `accuracy` scores.\n",
        "* Plot a ROC-curve for the trained model. For the multiclass case you might use `scikitplot` library (e.g. `scikitplot.metrics.plot_roc(test_labels, predicted_proba)`).\n",
        "\n",
        "*Note: please, use the following hyperparameters for logistic regression: `multi_class='multinomial'`, `solver='saga'` and `tol=1e-3`*"
      ]
    },
    {
      "cell_type": "code",
      "execution_count": null,
      "metadata": {
        "nbgrader": {
          "grade": true,
          "grade_id": "cell-12d53ea45258fa82",
          "locked": false,
          "points": 5,
          "schema_version": 2,
          "solution": true
        },
        "id": "p_NOEhUqqtnA",
        "outputId": "1d963891-daae-4889-884d-109f64dfe73b",
        "colab": {
          "base_uri": "https://localhost:8080/"
        }
      },
      "outputs": [
        {
          "output_type": "stream",
          "name": "stdout",
          "text": [
            "f1 score: 0.6383916970941308\n",
            "accuracy: 0.6565656565656566\n"
          ]
        },
        {
          "output_type": "stream",
          "name": "stderr",
          "text": [
            "/usr/local/lib/python3.10/dist-packages/sklearn/linear_model/_sag.py:350: ConvergenceWarning: The max_iter was reached which means the coef_ did not converge\n",
            "  warnings.warn(\n"
          ]
        }
      ],
      "source": [
        "### YOUR CODE HERE\n",
        "\n",
        "logistic_regression_pca = LogisticRegression(multi_class='multinomial', solver='saga', tol=1e-3)\n",
        "grid = {\n",
        "    'C': [0.01, 0.05, 0.1, 0.5, 1, 2, 5, 10],\n",
        "}\n",
        "\n",
        "lr_grid_search_pca = GridSearchCV(logistic_regression_pca, param_grid = grid, n_jobs=-1, cv=5)\n",
        "lr_grid_search_pca.fit(X_train_pca, y_train)\n",
        "model_pca = lr_grid_search_pca.best_estimator_\n",
        "print('f1 score:', f1_score(y_test, model_pca.predict(X_test_pca), average='weighted'))\n",
        "print('accuracy:', accuracy_score(y_test, model_pca.predict(X_test_pca)))\n",
        "\n"
      ]
    },
    {
      "cell_type": "code",
      "source": [
        "plot_roc(y_test, model_pca.predict_proba(X_test_pca))\n",
        "\n"
      ],
      "metadata": {
        "id": "XGcBVU-bv5Ac",
        "outputId": "14c39d0a-50fb-4595-ee18-c26c995d8dad",
        "colab": {
          "base_uri": "https://localhost:8080/",
          "height": 490
        }
      },
      "execution_count": null,
      "outputs": [
        {
          "output_type": "execute_result",
          "data": {
            "text/plain": [
              "<Axes: title={'center': 'ROC Curves'}, xlabel='False Positive Rate', ylabel='True Positive Rate'>"
            ]
          },
          "metadata": {},
          "execution_count": 17
        },
        {
          "output_type": "display_data",
          "data": {
            "text/plain": [
              "<Figure size 640x480 with 1 Axes>"
            ],
            "image/png": "[encoded data removed]"
          },
          "metadata": {}
        }
      ]
    },
    {
      "cell_type": "markdown",
      "metadata": {
        "nbgrader": {
          "grade": false,
          "grade_id": "cell-4fbf16c64076e139",
          "locked": true,
          "schema_version": 2,
          "solution": false
        },
        "id": "JbgbY0eVqtnB"
      },
      "source": [
        "#### 2.5. Decision tree\n",
        "* Now train a desicion tree on the same data. Find optimal tree depth (`max_depth`) using cross-validation.\n",
        "\n",
        "* Measure the model quality using the same metrics you used above."
      ]
    },
    {
      "cell_type": "code",
      "source": [
        "print(X_test.shape,\n",
        "      X_train.shape)\n",
        "\n"
      ],
      "metadata": {
        "id": "P8ZLe2RI1_GW",
        "outputId": "3bc288f3-b522-40d7-9328-fdc5ea7337e1",
        "colab": {
          "base_uri": "https://localhost:8080/"
        }
      },
      "execution_count": null,
      "outputs": [
        {
          "output_type": "stream",
          "name": "stdout",
          "text": [
            "(297, 19) (549, 19)\n"
          ]
        }
      ]
    },
    {
      "cell_type": "code",
      "execution_count": null,
      "metadata": {
        "nbgrader": {
          "grade": true,
          "grade_id": "cell-748ed20b51c67fab",
          "locked": false,
          "points": 15,
          "schema_version": 2,
          "solution": true
        },
        "id": "wufwKGKbqtnB",
        "outputId": "dc5247fd-84e0-4232-d936-f6f28170e894",
        "colab": {
          "base_uri": "https://localhost:8080/"
        }
      },
      "outputs": [
        {
          "output_type": "stream",
          "name": "stdout",
          "text": [
            "f1 score: 0.6820236916641509\n",
            "accuracy: 0.7037037037037037\n"
          ]
        }
      ],
      "source": [
        "from sklearn.tree import DecisionTreeClassifier\n",
        "\n",
        "# YOUR CODE HERE\n",
        "\n",
        "\n",
        "grid = {'max_depth':  np.arange(1,20)}\n",
        "\n",
        "tree_grid_search = GridSearchCV(DecisionTreeClassifier(), param_grid = grid,).fit(X_train, y_train)\n",
        "model_tree = tree_grid_search.best_estimator_\n",
        "\n",
        "print('f1 score:', f1_score(y_test, model_tree.predict(X_test), average='weighted'))\n",
        "print('accuracy:', accuracy_score(y_test, model_tree.predict(X_test)))\n"
      ]
    },
    {
      "cell_type": "markdown",
      "metadata": {
        "nbgrader": {
          "grade": false,
          "grade_id": "cell-9eadd4d8a03ae67a",
          "locked": true,
          "schema_version": 2,
          "solution": false
        },
        "id": "Sel5KmBMqtnB"
      },
      "source": [
        "#### 2.6. Bagging.\n",
        "Here starts the ensembling part.\n",
        "\n",
        "First we will use the __Bagging__ approach. Build an ensemble of $N$ algorithms varying N from $N_{min}=2$ to $N_{max}=100$ (with step 5).\n",
        "\n",
        "We will build two ensembles: of logistic regressions and of decision trees.\n",
        "\n",
        "*Comment: each ensemble should be constructed from models of the same family, so logistic regressions should not be mixed up with decision trees.*\n",
        "\n",
        "\n",
        "*Hint 1: To build a __Bagging__ ensebmle varying the ensemble size efficiently you might generate $N_{max}$ subsets of `train` data (of the same size as the original dataset) using bootstrap procedure once. Then you train a new instance of logistic regression/decision tree with optimal hyperparameters you estimated before on each subset (so you train it from scratch). Finally, to get an ensemble of $N$ models you average the $N$ out of $N_{max}$ models predictions.*\n",
        "\n",
        "*Hint 2: sklearn might help you with this taks. Some appropriate function/class might be out there.*\n",
        "\n",
        "* Plot `f1` and `accuracy` scores plots w.r.t. the size of the ensemble.\n",
        "\n",
        "* Briefly analyse the plot. What is the optimal number of algorithms? Explain your answer.\n",
        "\n",
        "* How do you think, are the hyperparameters for the decision trees you found in 2.5 optimal for trees used in ensemble?"
      ]
    },
    {
      "cell_type": "code",
      "execution_count": null,
      "metadata": {
        "nbgrader": {
          "grade": true,
          "grade_id": "cell-8fc95a2b206bdae1",
          "locked": false,
          "points": 35,
          "schema_version": 2,
          "solution": true
        },
        "id": "UIbNZtg4qtnC"
      },
      "outputs": [],
      "source": [
        "# YOUR CODE HERE"
      ]
    },
    {
      "cell_type": "code",
      "execution_count": null,
      "metadata": {
        "id": "zbFaej_vqtnC"
      },
      "outputs": [],
      "source": [
        "from sklearn.ensemble import BaggingClassifier\n",
        "\n",
        "N_min = 2\n",
        "N_max = 100\n",
        "step = 5\n",
        "\n",
        "f1_lr = []\n",
        "f1_tree = []\n",
        "accuracy_lr = []\n",
        "accuracy_tree = []\n",
        "\n",
        "N = np.arange(N_min, N_max, step)\n",
        "\n",
        "def bagging_estimator(N, estimator, f1_scores, accuracy_scores, X_train, y_train, X_test, y_test):\n",
        "  for i in N:\n",
        "    model = BaggingClassifier(estimator=estimator, n_estimators=i, n_jobs = -1).fit(X_train, y_train)\n",
        "    predict = model.predict(X_test)\n",
        "    f1_scores.append(f1_score(y_test, predict, average='weighted'))\n",
        "    accuracy_scores.append(accuracy_score(y_test, predict))\n",
        "\n",
        "bagging_estimator(N, model_lr, f1_lr, accuracy_lr, X_train, y_train, X_test, y_test)\n",
        "bagging_estimator(N, model_tree, f1_tree, accuracy_tree, X_train, y_train, X_test, y_test)\n",
        "\n"
      ]
    },
    {
      "cell_type": "code",
      "source": [
        "plt.plot(N, f1_lr, label=\"f1_lr\", color = 'gold')\n",
        "plt.plot(N, accuracy_lr, label=\"accuracy_lr\", color = 'red')\n",
        "\n",
        "plt.plot(N, f1_tree, label=\"f1_tree\", color = 'blue')\n",
        "plt.plot(N, accuracy_tree, label=\"accuracy_tree\", color = 'green')\n",
        "plt.legend()\n",
        "plt.grid()\n",
        "plt.show()\n"
      ],
      "metadata": {
        "id": "jjnkvFLWIab5",
        "outputId": "f64ded32-94e7-4754-c51f-cae18f6273f7",
        "colab": {
          "base_uri": "https://localhost:8080/",
          "height": 430
        }
      },
      "execution_count": null,
      "outputs": [
        {
          "output_type": "display_data",
          "data": {
            "text/plain": [
              "<Figure size 640x480 with 1 Axes>"
            ],
            "image/png": "[encoded data removed]"
          },
          "metadata": {}
        }
      ]
    },
    {
      "cell_type": "markdown",
      "metadata": {
        "nbgrader": {
          "grade": false,
          "grade_id": "cell-241b7691ab44cbfb",
          "locked": true,
          "schema_version": 2,
          "solution": false
        },
        "id": "mL7CRUdaqtnC"
      },
      "source": [
        "#### 2.7. Random Forest\n",
        "Now we will work with the Random Forest (its `sklearn` implementation).\n",
        "\n",
        "* * Plot `f1` and `accuracy` scores plots w.r.t. the number of trees in Random Forest.\n",
        "\n",
        "* What is the optimal number of trees you've got? Is it different from the optimal number of logistic regressions/decision trees in 2.6? Explain the results briefly."
      ]
    },
    {
      "cell_type": "code",
      "execution_count": null,
      "metadata": {
        "nbgrader": {
          "grade": true,
          "grade_id": "cell-888755d0f3d91620",
          "locked": false,
          "points": 15,
          "schema_version": 2,
          "solution": true
        },
        "id": "dsPq0i0WqtnC"
      },
      "outputs": [],
      "source": [
        "from sklearn.ensemble import RandomForestClassifier\n",
        "\n",
        "f1_random_forest = []\n",
        "accuracy_random_forest = []\n",
        "\n",
        "for i in N:\n",
        "  model_random_forest = RandomForestClassifier(n_estimators=i).fit(X_train, y_train)\n",
        "  predict = model_random_forest.predict(X_test)\n",
        "  f1_random_forest.append(f1_score(y_test, predict, average='weighted'))\n",
        "  accuracy_random_forest.append(accuracy_score(y_test, predict))\n",
        "\n",
        "\n",
        "\n",
        "\n",
        "\n",
        "\n",
        "# YOUR CODE HERE"
      ]
    },
    {
      "cell_type": "code",
      "source": [
        "plt.plot(N, f1_random_forest, label=\"f1_random_forest\", color = 'gold')\n",
        "plt.plot(N, accuracy_random_forest, label=\"accuracy_random_forest\", color = 'red')\n",
        "\n",
        "plt.legend()\n",
        "plt.grid()\n",
        "plt.show()"
      ],
      "metadata": {
        "id": "snIZSd4PJlHE",
        "outputId": "c885a5cb-6774-49cf-8859-12d2694c1c9a",
        "colab": {
          "base_uri": "https://localhost:8080/",
          "height": 430
        }
      },
      "execution_count": null,
      "outputs": [
        {
          "output_type": "display_data",
          "data": {
            "text/plain": [
              "<Figure size 640x480 with 1 Axes>"
            ],
            "image/png": "[encoded data removed]"
          },
          "metadata": {}
        }
      ]
    },
    {
      "cell_type": "code",
      "source": [
        "print(\"Optimal N for lr:\", N[f1_lr.index(max(f1_lr))])\n",
        "print(\"Optimal N for tree:\", N[f1_tree.index(max(f1_tree))])\n",
        "print(\"Optimal N for random_forest:\", N[f1_random_forest.index(max(f1_random_forest))])\n"
      ],
      "metadata": {
        "id": "aK3ENNetKVKZ",
        "outputId": "271b5e81-f563-44d1-c59f-e7cb81816356",
        "colab": {
          "base_uri": "https://localhost:8080/"
        }
      },
      "execution_count": null,
      "outputs": [
        {
          "output_type": "stream",
          "name": "stdout",
          "text": [
            "Optimal N for lr: 12\n",
            "Optimal N for tree: 57\n",
            "Optimal N for random_forest: 22\n"
          ]
        }
      ]
    },
    {
      "cell_type": "markdown",
      "source": [
        "Obviously, optimal number of trees is different because of the diffrent realisation of the method"
      ],
      "metadata": {
        "id": "QbfqxazOL2-f"
      }
    },
    {
      "cell_type": "markdown",
      "metadata": {
        "nbgrader": {
          "grade": false,
          "grade_id": "cell-99191c0852538d4d",
          "locked": true,
          "schema_version": 2,
          "solution": false
        },
        "id": "r39IyS1_qtnD"
      },
      "source": [
        "#### 2.8. Learning curve\n",
        "Your goal is to estimate, how does the model behaviour change with the increase of the `train` dataset size.\n",
        "\n",
        "* Split the training data into 10 equal (almost) parts. Then train the models from above (Logistic regression, Desicion Tree, Random Forest) with optimal hyperparameters you have selected on 1 part, 2 parts (combined, so the train size in increased by 2 times), 3 parts and so on.\n",
        "\n",
        "* Build a plot of `accuracy` and `f1` scores on `test` part, varying the `train` dataset size (so the axes will be score - dataset size.\n",
        "\n",
        "* Analyse the final plot. Can you make any conlusions using it?"
      ]
    },
    {
      "cell_type": "code",
      "execution_count": null,
      "metadata": {
        "nbgrader": {
          "grade": true,
          "grade_id": "cell-e39bc7e7dff61ff9",
          "locked": false,
          "points": 15,
          "schema_version": 2,
          "solution": true
        },
        "id": "AIHWKjRBqtnD"
      },
      "outputs": [],
      "source": [
        "# YOUR CODE HERE\n",
        "N_chunks = 10\n",
        "X_train_splited = np.array_split(X_train, N_chunks)\n",
        "\n",
        "def learning_curve(classifier_name, N_chunks, f1_score, acccuracy_score):\n",
        "  for i in N_chunks:\n",
        "    if classifier_name == 'logisti_regression':\n",
        "            model = LogisticRegression(\n",
        "                C=10, fit_intercept=True, max_iter=400, penalty='l1',\n",
        "                random_state=42, solver='saga'\n",
        "            )\n",
        "    elif classifier_name == 'tree':\n",
        "            model = DecisionTreeClassifier(max_depth=9, random_state=42)\n",
        "    elif classifier_name == 'random_forest':\n",
        "            model = DecisionTreeClassifier(max_depth=9, random_state=42)\n",
        "\n",
        "\n",
        "\n",
        "\n"
      ]
    },
    {
      "cell_type": "markdown",
      "metadata": {
        "id": "iQfb12VhqtnD"
      },
      "source": [
        "#### 2.9. Boosting\n",
        "Your goal is to build a boosting ensemble using xgboost, CatBoost or lightgbm package.\n",
        "Please, do not use the sklearn API for these models.\n",
        "\n",
        "Find optimal number of decision trees in the boosting ensembe using grid search or other methods.\n",
        "Please, explain your answer."
      ]
    },
    {
      "cell_type": "code",
      "execution_count": null,
      "metadata": {
        "id": "8KZ8ffspqtnD",
        "colab": {
          "base_uri": "https://localhost:8080/"
        },
        "outputId": "fb05a798-85c5-4bd5-bbfd-a2990fc86d45"
      },
      "outputs": [
        {
          "output_type": "stream",
          "name": "stdout",
          "text": [
            "Requirement already satisfied: catboost in /usr/local/lib/python3.10/dist-packages (1.2.2)\n",
            "Requirement already satisfied: graphviz in /usr/local/lib/python3.10/dist-packages (from catboost) (0.20.1)\n",
            "Requirement already satisfied: matplotlib in /usr/local/lib/python3.10/dist-packages (from catboost) (3.7.1)\n",
            "Requirement already satisfied: numpy>=1.16.0 in /usr/local/lib/python3.10/dist-packages (from catboost) (1.23.5)\n",
            "Requirement already satisfied: pandas>=0.24 in /usr/local/lib/python3.10/dist-packages (from catboost) (1.5.3)\n",
            "Requirement already satisfied: scipy in /usr/local/lib/python3.10/dist-packages (from catboost) (1.11.3)\n",
            "Requirement already satisfied: plotly in /usr/local/lib/python3.10/dist-packages (from catboost) (5.15.0)\n",
            "Requirement already satisfied: six in /usr/local/lib/python3.10/dist-packages (from catboost) (1.16.0)\n",
            "Requirement already satisfied: python-dateutil>=2.8.1 in /usr/local/lib/python3.10/dist-packages (from pandas>=0.24->catboost) (2.8.2)\n",
            "Requirement already satisfied: pytz>=2020.1 in /usr/local/lib/python3.10/dist-packages (from pandas>=0.24->catboost) (2023.3.post1)\n",
            "Requirement already satisfied: contourpy>=1.0.1 in /usr/local/lib/python3.10/dist-packages (from matplotlib->catboost) (1.1.1)\n",
            "Requirement already satisfied: cycler>=0.10 in /usr/local/lib/python3.10/dist-packages (from matplotlib->catboost) (0.12.1)\n",
            "Requirement already satisfied: fonttools>=4.22.0 in /usr/local/lib/python3.10/dist-packages (from matplotlib->catboost) (4.43.1)\n",
            "Requirement already satisfied: kiwisolver>=1.0.1 in /usr/local/lib/python3.10/dist-packages (from matplotlib->catboost) (1.4.5)\n",
            "Requirement already satisfied: packaging>=20.0 in /usr/local/lib/python3.10/dist-packages (from matplotlib->catboost) (23.2)\n",
            "Requirement already satisfied: pillow>=6.2.0 in /usr/local/lib/python3.10/dist-packages (from matplotlib->catboost) (9.4.0)\n",
            "Requirement already satisfied: pyparsing>=2.3.1 in /usr/local/lib/python3.10/dist-packages (from matplotlib->catboost) (3.1.1)\n",
            "Requirement already satisfied: tenacity>=6.2.0 in /usr/local/lib/python3.10/dist-packages (from plotly->catboost) (8.2.3)\n"
          ]
        }
      ],
      "source": [
        "# YOUR CODE HERE\n",
        "!pip install catboost"
      ]
    },
    {
      "cell_type": "code",
      "source": [
        "from re import T\n",
        "from catboost import CatBoostClassifier, Pool\n",
        "\n",
        "# initialize data\n",
        "train_data = X_train\n",
        "\n",
        "train_labels = y_train\n",
        "\n",
        "test_data = Pool(X_test, y_test)\n",
        "\n",
        "model_boost = CatBoostClassifier(depth=3,\n",
        "                           learning_rate=1,\n",
        "                           use_best_model=True,\n",
        "                           loss_function='MultiClass',\n",
        "                           verbose=False)\n",
        "# train the model\n",
        "model_boost.fit(train_data, train_labels, eval_set=test_data)\n",
        "# make the prediction using the resulting model\n",
        "preds_class = model_boost.predict(test_data)\n",
        "preds_proba = model_boost.predict_proba(test_data)\n",
        "# print(\"class = \", preds_class)\n",
        "# print(\"proba = \", preds_proba)"
      ],
      "metadata": {
        "id": "bIBnaKHT3oXF"
      },
      "execution_count": null,
      "outputs": []
    },
    {
      "cell_type": "code",
      "source": [
        "print(\"Optimal(almost) number of trees:\", model_boost.tree_count_)"
      ],
      "metadata": {
        "colab": {
          "base_uri": "https://localhost:8080/"
        },
        "id": "E6hWQWfk5pif",
        "outputId": "0a7097b7-8171-455a-c265-21d5fb83834d"
      },
      "execution_count": null,
      "outputs": [
        {
          "output_type": "stream",
          "name": "stdout",
          "text": [
            "Optimal(almost) number of trees: 79\n"
          ]
        }
      ]
    },
    {
      "cell_type": "code",
      "source": [
        "print('f1 score_boost:', f1_score(y_test, model_boost.predict(X_test), average='weighted'))\n",
        "print('accuracy_boost:', accuracy_score(y_test, model_boost.predict(X_test)))"
      ],
      "metadata": {
        "colab": {
          "base_uri": "https://localhost:8080/"
        },
        "id": "kEs7TFur9E-L",
        "outputId": "169a613a-9d44-40e9-8754-6f5fc3ab1c96"
      },
      "execution_count": null,
      "outputs": [
        {
          "output_type": "stream",
          "name": "stdout",
          "text": [
            "f1 score_boost: 0.770870188649712\n",
            "accuracy_boost: 0.7744107744107744\n"
          ]
        }
      ]
    },
    {
      "cell_type": "code",
      "source": [],
      "metadata": {
        "id": "2nXexy5UC1Oo"
      },
      "execution_count": null,
      "outputs": []
    }
  ],
  "metadata": {
    "celltoolbar": "Create Assignment",
    "kernelspec": {
      "display_name": "Py3 Research",
      "language": "python",
      "name": "py3_research_kernel"
    },
    "language_info": {
      "codemirror_mode": {
        "name": "ipython",
        "version": 3
      },
      "file_extension": ".py",
      "mimetype": "text/x-python",
      "name": "python",
      "nbconvert_exporter": "python",
      "pygments_lexer": "ipython3",
      "version": "3.9.7"
    },
    "toc": {
      "base_numbering": 1,
      "nav_menu": {},
      "number_sections": false,
      "sideBar": true,
      "skip_h1_title": false,
      "title_cell": "Table of Contents",
      "title_sidebar": "Contents",
      "toc_cell": false,
      "toc_position": {},
      "toc_section_display": true,
      "toc_window_display": false
    },
    "colab": {
      "provenance": []
    }
  },
  "nbformat": 4,
  "nbformat_minor": 0
}